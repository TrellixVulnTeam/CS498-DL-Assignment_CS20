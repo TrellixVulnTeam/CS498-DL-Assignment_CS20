{
 "cells": [
  {
   "cell_type": "code",
   "execution_count": 1,
   "metadata": {
    "colab": {
     "base_uri": "https://localhost:8080/",
     "height": 0
    },
    "executionInfo": {
     "elapsed": 1586,
     "status": "ok",
     "timestamp": 1604891006686,
     "user": {
      "displayName": "Yutong Xie",
      "photoUrl": "https://lh3.googleusercontent.com/a-/AOh14GhXdeoCfgkQhGM6Y9yxqYJammXB7UaVouj7KqsW=s64",
      "userId": "16538548856605091169"
     },
     "user_tz": 360
    },
    "id": "6fdjCt0GptTz",
    "outputId": "daaf284d-1500-4d6e-f890-00ad1e0cc469"
   },
   "outputs": [
    {
     "name": "stdout",
     "output_type": "stream",
     "text": [
      "Drive already mounted at /content/gdrive; to attempt to forcibly remount, call drive.mount(\"/content/gdrive\", force_remount=True).\n"
     ]
    }
   ],
   "source": [
    "from google.colab import drive\n",
    "drive.mount('/content/gdrive')\n",
    "import os\n",
    "os.chdir(\"gdrive/My Drive/assignment3_p1\")"
   ]
  },
  {
   "cell_type": "code",
   "execution_count": 2,
   "metadata": {
    "executionInfo": {
     "elapsed": 1579,
     "status": "ok",
     "timestamp": 1604891006687,
     "user": {
      "displayName": "Yutong Xie",
      "photoUrl": "https://lh3.googleusercontent.com/a-/AOh14GhXdeoCfgkQhGM6Y9yxqYJammXB7UaVouj7KqsW=s64",
      "userId": "16538548856605091169"
     },
     "user_tz": 360
    },
    "id": "EQyTatoPwO_9"
   },
   "outputs": [],
   "source": [
    "# import tensorflow as tf\n",
    "# tf.test.gpu_device_name()\n",
    "# # !/opt/bin/nvidia-smi"
   ]
  },
  {
   "cell_type": "code",
   "execution_count": 3,
   "metadata": {
    "colab": {
     "base_uri": "https://localhost:8080/",
     "height": 0
    },
    "executionInfo": {
     "elapsed": 4041,
     "status": "ok",
     "timestamp": 1604891009155,
     "user": {
      "displayName": "Yutong Xie",
      "photoUrl": "https://lh3.googleusercontent.com/a-/AOh14GhXdeoCfgkQhGM6Y9yxqYJammXB7UaVouj7KqsW=s64",
      "userId": "16538548856605091169"
     },
     "user_tz": 360
    },
    "id": "XKSA4-Kgpvu7",
    "outputId": "63dfce17-e29c-4354-c28f-915d5fe33409"
   },
   "outputs": [
    {
     "name": "stdout",
     "output_type": "stream",
     "text": [
      "Looking in links: https://download.pytorch.org/whl/torch_stable.html\n",
      "Requirement already satisfied: torch==1.5.1+cu101 in /usr/local/lib/python3.6/dist-packages (1.5.1+cu101)\n",
      "Requirement already satisfied: torchvision==0.6.1+cu101 in /usr/local/lib/python3.6/dist-packages (0.6.1+cu101)\n",
      "Requirement already satisfied: future in /usr/local/lib/python3.6/dist-packages (from torch==1.5.1+cu101) (0.16.0)\n",
      "Requirement already satisfied: numpy in /usr/local/lib/python3.6/dist-packages (from torch==1.5.1+cu101) (1.18.5)\n",
      "Requirement already satisfied: pillow>=4.1.1 in /usr/local/lib/python3.6/dist-packages (from torchvision==0.6.1+cu101) (7.0.0)\n"
     ]
    }
   ],
   "source": [
    "!pip install torch==1.5.1+cu101 torchvision==0.6.1+cu101 -f https://download.pytorch.org/whl/torch_stable.html"
   ]
  },
  {
   "cell_type": "code",
   "execution_count": 4,
   "metadata": {
    "colab": {
     "base_uri": "https://localhost:8080/",
     "height": 35
    },
    "executionInfo": {
     "elapsed": 24600,
     "status": "ok",
     "timestamp": 1604891029720,
     "user": {
      "displayName": "Yutong Xie",
      "photoUrl": "https://lh3.googleusercontent.com/a-/AOh14GhXdeoCfgkQhGM6Y9yxqYJammXB7UaVouj7KqsW=s64",
      "userId": "16538548856605091169"
     },
     "user_tz": 360
    },
    "id": "7THa2ygbpxw5",
    "outputId": "9e6e08e6-bed8-4857-f861-88dac197957b"
   },
   "outputs": [
    {
     "data": {
      "application/vnd.google.colaboratory.intrinsic+json": {
       "type": "string"
      },
      "text/plain": [
       "'/content/VOCdevkit_2007/VOC2007test'"
      ]
     },
     "execution_count": 4,
     "metadata": {
      "tags": []
     },
     "output_type": "execute_result"
    }
   ],
   "source": [
    "import shutil \n",
    "shutil.copyfile(\"VOCtrainval_06-Nov-2007.tar\", \"/content/VOCtrainval_06-Nov-2007.tar\")\n",
    "!tar -xf \"/content/VOCtrainval_06-Nov-2007.tar\" -C \"/content/\" \n",
    "shutil.move(\"/content/VOCdevkit/\", \"/content/VOCdevkit_2007\")\n",
    "\n",
    "shutil.copyfile(\"VOCtest_06-Nov-2007.tar\", \"/content/VOCtest_06-Nov-2007.tar\")\n",
    "!tar -xf \"/content/VOCtest_06-Nov-2007.tar\" -C \"/content/\" \n",
    "shutil.move(\"/content/VOCdevkit/VOC2007\", \"/content/VOCdevkit_2007/VOC2007test\")"
   ]
  },
  {
   "cell_type": "markdown",
   "metadata": {
    "id": "GYVyjU_-pmFB"
   },
   "source": [
    "# Assignment 3 Part 1: Developing Your Own Classifier"
   ]
  },
  {
   "cell_type": "code",
   "execution_count": 5,
   "metadata": {
    "executionInfo": {
     "elapsed": 25642,
     "status": "ok",
     "timestamp": 1604891030767,
     "user": {
      "displayName": "Yutong Xie",
      "photoUrl": "https://lh3.googleusercontent.com/a-/AOh14GhXdeoCfgkQhGM6Y9yxqYJammXB7UaVouj7KqsW=s64",
      "userId": "16538548856605091169"
     },
     "user_tz": 360
    },
    "id": "fupZqUJppmFD"
   },
   "outputs": [],
   "source": [
    "import os\n",
    "import numpy as np\n",
    "import torch\n",
    "import torch.nn as nn\n",
    "import torchvision\n",
    "import PIL\n",
    "\n",
    "from torchvision import transforms\n",
    "from sklearn.metrics import average_precision_score\n",
    "from PIL import Image, ImageDraw\n",
    "import matplotlib.pyplot as plt\n",
    "from kaggle_submission import output_submission_csv\n",
    "from classifier import MSVGG16, TestNet, SimpleClassifier\n",
    "from voc_dataloader import VocDataset, VOC_CLASSES\n",
    "\n",
    "%matplotlib inline\n",
    "%load_ext autoreload\n",
    "%autoreload 2"
   ]
  },
  {
   "cell_type": "markdown",
   "metadata": {
    "id": "hpq0N7c8pmFH"
   },
   "source": [
    "# Part 1B: Design your own network\n",
    "\n",
    "In this notebook, your task is to create and train your own model for multi-label classification on VOC Pascal.\n",
    "\n",
    "## What to do\n",
    "1. You will make change on network architecture in ```classifier.py```.\n",
    "2. You may also want to change other hyperparameters to assist your training to get a better performances. Hints will be given in the below instructions.\n",
    "\n",
    "## What to submit\n",
    "Check the submission template for details what to submit. "
   ]
  },
  {
   "cell_type": "code",
   "execution_count": 6,
   "metadata": {
    "executionInfo": {
     "elapsed": 25639,
     "status": "ok",
     "timestamp": 1604891030769,
     "user": {
      "displayName": "Yutong Xie",
      "photoUrl": "https://lh3.googleusercontent.com/a-/AOh14GhXdeoCfgkQhGM6Y9yxqYJammXB7UaVouj7KqsW=s64",
      "userId": "16538548856605091169"
     },
     "user_tz": 360
    },
    "id": "2sJZ4TDzpmFH"
   },
   "outputs": [],
   "source": [
    "def train_classifier(train_loader, classifier, criterion, optimizer):\n",
    "    classifier.train()\n",
    "    loss_ = 0.0\n",
    "    losses = []\n",
    "    for i, (images, labels, _) in enumerate(train_loader):\n",
    "        images, labels = images.to(device), labels.to(device)\n",
    "        optimizer.zero_grad()\n",
    "        logits = classifier(images)\n",
    "        loss = criterion(logits, labels)\n",
    "        loss.backward()\n",
    "        optimizer.step()\n",
    "        losses.append(loss)\n",
    "    return torch.stack(losses).mean().item()"
   ]
  },
  {
   "cell_type": "code",
   "execution_count": 7,
   "metadata": {
    "executionInfo": {
     "elapsed": 25633,
     "status": "ok",
     "timestamp": 1604891030769,
     "user": {
      "displayName": "Yutong Xie",
      "photoUrl": "https://lh3.googleusercontent.com/a-/AOh14GhXdeoCfgkQhGM6Y9yxqYJammXB7UaVouj7KqsW=s64",
      "userId": "16538548856605091169"
     },
     "user_tz": 360
    },
    "id": "Q6dFkJ4DpmFK"
   },
   "outputs": [],
   "source": [
    "def test_classifier(test_loader, classifier, criterion, print_ind_classes=True, print_total=True):\n",
    "    classifier.eval()\n",
    "    losses = []\n",
    "    with torch.no_grad():\n",
    "        y_true = np.zeros((0,21))\n",
    "        y_score = np.zeros((0,21))\n",
    "        for i, (images, labels, _) in enumerate(test_loader):\n",
    "            images, labels = images.to(device), labels.to(device)\n",
    "            logits = classifier(images)\n",
    "            y_true = np.concatenate((y_true, labels.cpu().numpy()), axis=0)\n",
    "            y_score = np.concatenate((y_score, logits.cpu().numpy()), axis=0)\n",
    "            loss = criterion(logits, labels)\n",
    "            losses.append(loss.item())\n",
    "        aps = []\n",
    "        # ignore first class which is background\n",
    "        for i in range(1, y_true.shape[1]):\n",
    "            ap = average_precision_score(y_true[:, i], y_score[:, i])\n",
    "            if print_ind_classes:\n",
    "                print('-------  Class: {:<12}     AP: {:>8.4f}  -------'.format(VOC_CLASSES[i], ap))\n",
    "            aps.append(ap)\n",
    "        \n",
    "        mAP = np.mean(aps)\n",
    "        test_loss = np.mean(losses)\n",
    "        if print_total:\n",
    "            print('mAP: {0:.4f}'.format(mAP))\n",
    "            print('Avg loss: {}'.format(test_loss))\n",
    "        \n",
    "    return mAP, test_loss, aps"
   ]
  },
  {
   "cell_type": "code",
   "execution_count": 8,
   "metadata": {
    "executionInfo": {
     "elapsed": 25629,
     "status": "ok",
     "timestamp": 1604891030770,
     "user": {
      "displayName": "Yutong Xie",
      "photoUrl": "https://lh3.googleusercontent.com/a-/AOh14GhXdeoCfgkQhGM6Y9yxqYJammXB7UaVouj7KqsW=s64",
      "userId": "16538548856605091169"
     },
     "user_tz": 360
    },
    "id": "0BQTemOgpmFM"
   },
   "outputs": [],
   "source": [
    "def plot_losses(train, val, test_frequency, num_epochs):\n",
    "    plt.plot(train, label=\"train\")\n",
    "    indices = [i for i in range(num_epochs) if ((i+1)%test_frequency == 0 or i ==0)]\n",
    "    plt.plot(indices, val, label=\"val\")\n",
    "    plt.title(\"Loss Plot\")\n",
    "    plt.ylabel(\"Loss\")\n",
    "    plt.xlabel(\"Epoch\")\n",
    "    plt.legend()\n",
    "    plt.show()\n",
    "    \n",
    "def plot_mAP(train, val, test_frequency, num_epochs):\n",
    "    indices = [i for i in range(num_epochs) if ((i+1)%test_frequency == 0 or i ==0)]\n",
    "    plt.plot(indices, train, label=\"train\")\n",
    "    plt.plot(indices, val, label=\"val\")\n",
    "    plt.title(\"mAP Plot\")\n",
    "    plt.ylabel(\"mAP\")\n",
    "    plt.xlabel(\"Epoch\")\n",
    "    plt.legend()\n",
    "    plt.show()\n",
    "    "
   ]
  },
  {
   "cell_type": "code",
   "execution_count": 9,
   "metadata": {
    "executionInfo": {
     "elapsed": 25624,
     "status": "ok",
     "timestamp": 1604891030770,
     "user": {
      "displayName": "Yutong Xie",
      "photoUrl": "https://lh3.googleusercontent.com/a-/AOh14GhXdeoCfgkQhGM6Y9yxqYJammXB7UaVouj7KqsW=s64",
      "userId": "16538548856605091169"
     },
     "user_tz": 360
    },
    "id": "xx7ysw_wpmFP"
   },
   "outputs": [],
   "source": [
    "\n",
    "def train(classifier, num_epochs, train_loader, val_loader, criterion, optimizer, test_frequency=5):\n",
    "    train_losses = []\n",
    "    train_mAPs = []\n",
    "    val_losses = []\n",
    "    val_mAPs = []\n",
    "\n",
    "    for epoch in range(1,num_epochs+1):\n",
    "        print(\"Starting epoch number \" + str(epoch))\n",
    "        train_loss = train_classifier(train_loader, classifier, criterion, optimizer)\n",
    "        train_losses.append(train_loss)\n",
    "        print(\"Loss for Training on Epoch \" +str(epoch) + \" is \"+ str(train_loss))\n",
    "        if(epoch%test_frequency==0 or epoch==1):\n",
    "            mAP_train, _, _ = test_classifier(train_loader, classifier, criterion, False, False)\n",
    "            train_mAPs.append(mAP_train)\n",
    "            mAP_val, val_loss, _ = test_classifier(val_loader, classifier, criterion)\n",
    "            print('Evaluating classifier')\n",
    "            print(\"Mean Precision Score for Testing on Epoch \" +str(epoch) + \" is \"+ str(mAP_val))\n",
    "            val_losses.append(val_loss)\n",
    "            val_mAPs.append(mAP_val)\n",
    "    \n",
    "    return classifier, train_losses, val_losses, train_mAPs, val_mAPs"
   ]
  },
  {
   "cell_type": "markdown",
   "metadata": {
    "id": "WARY7kjGpmFR"
   },
   "source": [
    "# Developing Your Own Model"
   ]
  },
  {
   "cell_type": "markdown",
   "metadata": {
    "id": "AAuBqe4BpmFS"
   },
   "source": [
    "### Goal\n",
    "To meet the benchmark for this assignment you will need to improve the network. Note you should have noticed pretrained Alenxt performs really well, but training Alexnet from scratch performs much worse. We hope you can design a better architecture over both the simple classifier and AlexNet to train from scratch.\n",
    "\n",
    "### How to start\n",
    "You may take inspiration from other published architectures and architectures discussed in lecture. However, you are NOT allowed to use predefined models (e.g. models from torchvision) or use pretrained weights. Training must be done from scratch with your own custom model.\n",
    "\n",
    "#### Some hints\n",
    "There are a variety of different approaches you should try to improve performance from the simple classifier:\n",
    "\n",
    "* Network architecture changes\n",
    "    * Number of layers: try adding layers to make your network deeper\n",
    "    * Batch normalization: adding batch norm between layers will likely give you a significant performance increase\n",
    "    * Residual connections: as you increase the depth of your network, you will find that having residual connections like those in ResNet architectures will be helpful\n",
    "* Optimizer: Instead of plain SGD, you may want to add a learning rate schedule, add momentum, or use one of the other optimizers you have learned about like Adam. Check the `torch.optim` package for other optimizers\n",
    "* Data augmentation: You should use the `torchvision.transforms` module to try adding random resized crops and horizontal flips of the input data. Check `transforms.RandomResizedCrop` and `transforms.RandomHorizontalFlip` for this. Feel free to apply more [transforms](https://pytorch.org/docs/stable/torchvision/transforms.html) for data augmentation which can lead to better performance. \n",
    "* Epochs: Once you have found a generally good hyperparameter setting try training for more epochs\n",
    "* Loss function: You might want to add weighting to the `MultiLabelSoftMarginLoss` for classes that are less well represented or experiment with a different loss function\n",
    "\n",
    "\n",
    "\n",
    "#### Note\n",
    "We will soon be providing some initial expectations of mAP values as a function of epoch so you can get an early idea whether your implementation works without waiting a long time for training to converge.\n",
    "\n",
    "### What to submit \n",
    "Submit your best model to Kaggle and save all plots for the writeup.\n"
   ]
  },
  {
   "cell_type": "code",
   "execution_count": 10,
   "metadata": {
    "executionInfo": {
     "elapsed": 26992,
     "status": "ok",
     "timestamp": 1604891032142,
     "user": {
      "displayName": "Yutong Xie",
      "photoUrl": "https://lh3.googleusercontent.com/a-/AOh14GhXdeoCfgkQhGM6Y9yxqYJammXB7UaVouj7KqsW=s64",
      "userId": "16538548856605091169"
     },
     "user_tz": 360
    },
    "id": "G5H6ZBfvpmFS"
   },
   "outputs": [],
   "source": [
    "device = torch.device(\"cuda:0\" if torch.cuda.is_available() else \"cpu\")\n",
    "\n",
    "normalize = transforms.Normalize(mean=[0.485, 0.456, 0.406],\n",
    "                                     std= [0.229, 0.224, 0.225])\n",
    "\n",
    "train_transform = transforms.Compose([\n",
    "            transforms.Resize(227),\n",
    "            transforms.CenterCrop(227),\n",
    "            transforms.RandomHorizontalFlip(),\n",
    "            transforms.ColorJitter(hue=.05, saturation=.05),\n",
    "            transforms.RandomRotation(20, resample=PIL.Image.BILINEAR),\n",
    "            transforms.ToTensor(),\n",
    "            normalize\n",
    "        ])\n",
    "\n",
    "test_transform = transforms.Compose([\n",
    "            transforms.Resize(227),\n",
    "            transforms.CenterCrop(227),\n",
    "            transforms.ToTensor(),\n",
    "            normalize,\n",
    "        ])\n",
    "\n",
    "ds_train = VocDataset('/content/VOCdevkit_2007/VOC2007/','train',train_transform)\n",
    "ds_val = VocDataset('/content/VOCdevkit_2007/VOC2007/','val',test_transform)\n",
    "ds_test = VocDataset('/content/VOCdevkit_2007/VOC2007test/','test', test_transform)\n"
   ]
  },
  {
   "cell_type": "code",
   "execution_count": 11,
   "metadata": {
    "executionInfo": {
     "elapsed": 26986,
     "status": "ok",
     "timestamp": 1604891032144,
     "user": {
      "displayName": "Yutong Xie",
      "photoUrl": "https://lh3.googleusercontent.com/a-/AOh14GhXdeoCfgkQhGM6Y9yxqYJammXB7UaVouj7KqsW=s64",
      "userId": "16538548856605091169"
     },
     "user_tz": 360
    },
    "id": "NsG3djaIpmFV"
   },
   "outputs": [],
   "source": [
    "num_epochs = 60\n",
    "test_frequency = 5\n",
    "batch_size = 32\n",
    "\n",
    "train_loader = torch.utils.data.DataLoader(dataset=ds_train,\n",
    "                                               batch_size=batch_size, \n",
    "                                               shuffle=True,\n",
    "                                               num_workers=1)\n",
    "\n",
    "val_loader = torch.utils.data.DataLoader(dataset=ds_val,\n",
    "                                               batch_size=batch_size, \n",
    "                                               shuffle=True,\n",
    "                                               num_workers=1)\n",
    "\n",
    "test_loader = torch.utils.data.DataLoader(dataset=ds_test,\n",
    "                                               batch_size=batch_size, \n",
    "                                               shuffle=False,\n",
    "                                               num_workers=1)"
   ]
  },
  {
   "cell_type": "code",
   "execution_count": 12,
   "metadata": {
    "colab": {
     "base_uri": "https://localhost:8080/",
     "height": 0
    },
    "executionInfo": {
     "elapsed": 3066676,
     "status": "ok",
     "timestamp": 1604894071838,
     "user": {
      "displayName": "Yutong Xie",
      "photoUrl": "https://lh3.googleusercontent.com/a-/AOh14GhXdeoCfgkQhGM6Y9yxqYJammXB7UaVouj7KqsW=s64",
      "userId": "16538548856605091169"
     },
     "user_tz": 360
    },
    "id": "ytvUyJ2kpmFY",
    "outputId": "4f6a0758-0849-442e-ac29-325c470fc501"
   },
   "outputs": [
    {
     "name": "stdout",
     "output_type": "stream",
     "text": [
      "Starting epoch number 1\n",
      "Loss for Training on Epoch 1 is 0.3617451786994934\n",
      "-------  Class: aeroplane        AP:   0.0508  -------\n",
      "-------  Class: bicycle          AP:   0.0595  -------\n",
      "-------  Class: bird             AP:   0.0942  -------\n",
      "-------  Class: boat             AP:   0.0392  -------\n",
      "-------  Class: bottle           AP:   0.0474  -------\n",
      "-------  Class: bus              AP:   0.0287  -------\n",
      "-------  Class: car              AP:   0.1134  -------\n",
      "-------  Class: cat              AP:   0.1215  -------\n",
      "-------  Class: chair            AP:   0.1295  -------\n",
      "-------  Class: cow              AP:   0.0450  -------\n",
      "-------  Class: diningtable      AP:   0.0675  -------\n",
      "-------  Class: dog              AP:   0.1162  -------\n",
      "-------  Class: horse            AP:   0.0636  -------\n",
      "-------  Class: motorbike        AP:   0.0414  -------\n",
      "-------  Class: person           AP:   0.4019  -------\n",
      "-------  Class: pottedplant      AP:   0.0565  -------\n",
      "-------  Class: sheep            AP:   0.0395  -------\n",
      "-------  Class: sofa             AP:   0.1259  -------\n",
      "-------  Class: train            AP:   0.0414  -------\n",
      "-------  Class: tvmonitor        AP:   0.0548  -------\n",
      "mAP: 0.0869\n",
      "Avg loss: 0.24174881264378753\n",
      "Evaluating classifier\n",
      "Mean Precision Score for Testing on Epoch 1 is 0.08688964238543125\n",
      "Starting epoch number 2\n",
      "Loss for Training on Epoch 2 is 0.23756049573421478\n",
      "Starting epoch number 3\n",
      "Loss for Training on Epoch 3 is 0.23156864941120148\n",
      "Starting epoch number 4\n",
      "Loss for Training on Epoch 4 is 0.22759249806404114\n",
      "Starting epoch number 5\n",
      "Loss for Training on Epoch 5 is 0.2206079512834549\n",
      "-------  Class: aeroplane        AP:   0.3498  -------\n",
      "-------  Class: bicycle          AP:   0.1326  -------\n",
      "-------  Class: bird             AP:   0.1639  -------\n",
      "-------  Class: boat             AP:   0.2184  -------\n",
      "-------  Class: bottle           AP:   0.0820  -------\n",
      "-------  Class: bus              AP:   0.1330  -------\n",
      "-------  Class: car              AP:   0.3245  -------\n",
      "-------  Class: cat              AP:   0.1927  -------\n",
      "-------  Class: chair            AP:   0.2157  -------\n",
      "-------  Class: cow              AP:   0.0560  -------\n",
      "-------  Class: diningtable      AP:   0.1613  -------\n",
      "-------  Class: dog              AP:   0.1882  -------\n",
      "-------  Class: horse            AP:   0.0947  -------\n",
      "-------  Class: motorbike        AP:   0.1125  -------\n",
      "-------  Class: person           AP:   0.5495  -------\n",
      "-------  Class: pottedplant      AP:   0.1007  -------\n",
      "-------  Class: sheep            AP:   0.1146  -------\n",
      "-------  Class: sofa             AP:   0.1669  -------\n",
      "-------  Class: train            AP:   0.1247  -------\n",
      "-------  Class: tvmonitor        AP:   0.0864  -------\n",
      "mAP: 0.1784\n",
      "Avg loss: 0.2166654931593545\n",
      "Evaluating classifier\n",
      "Mean Precision Score for Testing on Epoch 5 is 0.17840573182919084\n",
      "Starting epoch number 6\n",
      "Loss for Training on Epoch 6 is 0.21615682542324066\n",
      "Starting epoch number 7\n",
      "Loss for Training on Epoch 7 is 0.2123277485370636\n",
      "Starting epoch number 8\n",
      "Loss for Training on Epoch 8 is 0.20832423865795135\n",
      "Starting epoch number 9\n",
      "Loss for Training on Epoch 9 is 0.20493145287036896\n",
      "Starting epoch number 10\n",
      "Loss for Training on Epoch 10 is 0.20210833847522736\n",
      "-------  Class: aeroplane        AP:   0.4271  -------\n",
      "-------  Class: bicycle          AP:   0.1654  -------\n",
      "-------  Class: bird             AP:   0.1666  -------\n",
      "-------  Class: boat             AP:   0.2992  -------\n",
      "-------  Class: bottle           AP:   0.1057  -------\n",
      "-------  Class: bus              AP:   0.1636  -------\n",
      "-------  Class: car              AP:   0.4590  -------\n",
      "-------  Class: cat              AP:   0.2591  -------\n",
      "-------  Class: chair            AP:   0.3196  -------\n",
      "-------  Class: cow              AP:   0.0888  -------\n",
      "-------  Class: diningtable      AP:   0.2144  -------\n",
      "-------  Class: dog              AP:   0.2212  -------\n",
      "-------  Class: horse            AP:   0.2707  -------\n",
      "-------  Class: motorbike        AP:   0.1663  -------\n",
      "-------  Class: person           AP:   0.6183  -------\n",
      "-------  Class: pottedplant      AP:   0.1478  -------\n",
      "-------  Class: sheep            AP:   0.1754  -------\n",
      "-------  Class: sofa             AP:   0.1739  -------\n",
      "-------  Class: train            AP:   0.3050  -------\n",
      "-------  Class: tvmonitor        AP:   0.1469  -------\n",
      "mAP: 0.2447\n",
      "Avg loss: 0.20190851503535162\n",
      "Evaluating classifier\n",
      "Mean Precision Score for Testing on Epoch 10 is 0.24470276887206993\n",
      "Starting epoch number 11\n",
      "Loss for Training on Epoch 11 is 0.19907976686954498\n",
      "Starting epoch number 12\n",
      "Loss for Training on Epoch 12 is 0.19686371088027954\n",
      "Starting epoch number 13\n",
      "Loss for Training on Epoch 13 is 0.19378463923931122\n",
      "Starting epoch number 14\n",
      "Loss for Training on Epoch 14 is 0.19367745518684387\n",
      "Starting epoch number 15\n",
      "Loss for Training on Epoch 15 is 0.19185498356819153\n",
      "-------  Class: aeroplane        AP:   0.4608  -------\n",
      "-------  Class: bicycle          AP:   0.2164  -------\n",
      "-------  Class: bird             AP:   0.1793  -------\n",
      "-------  Class: boat             AP:   0.2896  -------\n",
      "-------  Class: bottle           AP:   0.1089  -------\n",
      "-------  Class: bus              AP:   0.1863  -------\n",
      "-------  Class: car              AP:   0.4973  -------\n",
      "-------  Class: cat              AP:   0.3034  -------\n",
      "-------  Class: chair            AP:   0.3369  -------\n",
      "-------  Class: cow              AP:   0.1166  -------\n",
      "-------  Class: diningtable      AP:   0.2441  -------\n",
      "-------  Class: dog              AP:   0.2273  -------\n",
      "-------  Class: horse            AP:   0.3601  -------\n",
      "-------  Class: motorbike        AP:   0.1809  -------\n",
      "-------  Class: person           AP:   0.6560  -------\n",
      "-------  Class: pottedplant      AP:   0.1431  -------\n",
      "-------  Class: sheep            AP:   0.1892  -------\n",
      "-------  Class: sofa             AP:   0.2074  -------\n",
      "-------  Class: train            AP:   0.3451  -------\n",
      "-------  Class: tvmonitor        AP:   0.1557  -------\n",
      "mAP: 0.2702\n",
      "Avg loss: 0.1963868705154974\n",
      "Evaluating classifier\n",
      "Mean Precision Score for Testing on Epoch 15 is 0.27020812965395075\n",
      "Starting epoch number 16\n",
      "Loss for Training on Epoch 16 is 0.1891106218099594\n",
      "Starting epoch number 17\n",
      "Loss for Training on Epoch 17 is 0.18849626183509827\n",
      "Starting epoch number 18\n",
      "Loss for Training on Epoch 18 is 0.18510733544826508\n",
      "Starting epoch number 19\n",
      "Loss for Training on Epoch 19 is 0.1844649463891983\n",
      "Starting epoch number 20\n",
      "Loss for Training on Epoch 20 is 0.1825220137834549\n",
      "-------  Class: aeroplane        AP:   0.4847  -------\n",
      "-------  Class: bicycle          AP:   0.2403  -------\n",
      "-------  Class: bird             AP:   0.1786  -------\n",
      "-------  Class: boat             AP:   0.2831  -------\n",
      "-------  Class: bottle           AP:   0.1133  -------\n",
      "-------  Class: bus              AP:   0.2106  -------\n",
      "-------  Class: car              AP:   0.5316  -------\n",
      "-------  Class: cat              AP:   0.3433  -------\n",
      "-------  Class: chair            AP:   0.3882  -------\n",
      "-------  Class: cow              AP:   0.1419  -------\n",
      "-------  Class: diningtable      AP:   0.2774  -------\n",
      "-------  Class: dog              AP:   0.2329  -------\n",
      "-------  Class: horse            AP:   0.3736  -------\n",
      "-------  Class: motorbike        AP:   0.2538  -------\n",
      "-------  Class: person           AP:   0.6766  -------\n",
      "-------  Class: pottedplant      AP:   0.1593  -------\n",
      "-------  Class: sheep            AP:   0.2026  -------\n",
      "-------  Class: sofa             AP:   0.2474  -------\n",
      "-------  Class: train            AP:   0.3815  -------\n",
      "-------  Class: tvmonitor        AP:   0.2133  -------\n",
      "mAP: 0.2967\n",
      "Avg loss: 0.1905180136614208\n",
      "Evaluating classifier\n",
      "Mean Precision Score for Testing on Epoch 20 is 0.2966997001310118\n",
      "Starting epoch number 21\n",
      "Loss for Training on Epoch 21 is 0.1794072985649109\n",
      "Starting epoch number 22\n",
      "Loss for Training on Epoch 22 is 0.18041741847991943\n",
      "Starting epoch number 23\n",
      "Loss for Training on Epoch 23 is 0.17777013778686523\n",
      "Starting epoch number 24\n",
      "Loss for Training on Epoch 24 is 0.17650631070137024\n",
      "Starting epoch number 25\n",
      "Loss for Training on Epoch 25 is 0.17573685944080353\n",
      "-------  Class: aeroplane        AP:   0.4822  -------\n",
      "-------  Class: bicycle          AP:   0.2648  -------\n",
      "-------  Class: bird             AP:   0.1673  -------\n",
      "-------  Class: boat             AP:   0.3235  -------\n",
      "-------  Class: bottle           AP:   0.1226  -------\n",
      "-------  Class: bus              AP:   0.2172  -------\n",
      "-------  Class: car              AP:   0.5403  -------\n",
      "-------  Class: cat              AP:   0.3530  -------\n",
      "-------  Class: chair            AP:   0.3872  -------\n",
      "-------  Class: cow              AP:   0.1831  -------\n",
      "-------  Class: diningtable      AP:   0.2895  -------\n",
      "-------  Class: dog              AP:   0.2389  -------\n",
      "-------  Class: horse            AP:   0.4282  -------\n",
      "-------  Class: motorbike        AP:   0.2981  -------\n",
      "-------  Class: person           AP:   0.6931  -------\n",
      "-------  Class: pottedplant      AP:   0.1727  -------\n",
      "-------  Class: sheep            AP:   0.1653  -------\n",
      "-------  Class: sofa             AP:   0.2668  -------\n",
      "-------  Class: train            AP:   0.4015  -------\n",
      "-------  Class: tvmonitor        AP:   0.2040  -------\n",
      "mAP: 0.3100\n",
      "Avg loss: 0.19074665179735498\n",
      "Evaluating classifier\n",
      "Mean Precision Score for Testing on Epoch 25 is 0.30996984215665685\n",
      "Starting epoch number 26\n",
      "Loss for Training on Epoch 26 is 0.1736195832490921\n",
      "Starting epoch number 27\n",
      "Loss for Training on Epoch 27 is 0.1720414012670517\n",
      "Starting epoch number 28\n",
      "Loss for Training on Epoch 28 is 0.1718280017375946\n",
      "Starting epoch number 29\n",
      "Loss for Training on Epoch 29 is 0.1707906574010849\n",
      "Starting epoch number 30\n",
      "Loss for Training on Epoch 30 is 0.17037001252174377\n",
      "-------  Class: aeroplane        AP:   0.4958  -------\n",
      "-------  Class: bicycle          AP:   0.2790  -------\n",
      "-------  Class: bird             AP:   0.1743  -------\n",
      "-------  Class: boat             AP:   0.3282  -------\n",
      "-------  Class: bottle           AP:   0.1211  -------\n",
      "-------  Class: bus              AP:   0.2378  -------\n",
      "-------  Class: car              AP:   0.5359  -------\n",
      "-------  Class: cat              AP:   0.3871  -------\n",
      "-------  Class: chair            AP:   0.4212  -------\n",
      "-------  Class: cow              AP:   0.1539  -------\n",
      "-------  Class: diningtable      AP:   0.3109  -------\n",
      "-------  Class: dog              AP:   0.2584  -------\n",
      "-------  Class: horse            AP:   0.4527  -------\n",
      "-------  Class: motorbike        AP:   0.3575  -------\n",
      "-------  Class: person           AP:   0.7018  -------\n",
      "-------  Class: pottedplant      AP:   0.1508  -------\n",
      "-------  Class: sheep            AP:   0.1971  -------\n",
      "-------  Class: sofa             AP:   0.2712  -------\n",
      "-------  Class: train            AP:   0.4752  -------\n",
      "-------  Class: tvmonitor        AP:   0.2506  -------\n",
      "mAP: 0.3280\n",
      "Avg loss: 0.1870417178054399\n",
      "Evaluating classifier\n",
      "Mean Precision Score for Testing on Epoch 30 is 0.32801764148347234\n",
      "Starting epoch number 31\n",
      "Loss for Training on Epoch 31 is 0.16862152516841888\n",
      "Starting epoch number 32\n",
      "Loss for Training on Epoch 32 is 0.1670731157064438\n",
      "Starting epoch number 33\n",
      "Loss for Training on Epoch 33 is 0.1673511415719986\n",
      "Starting epoch number 34\n",
      "Loss for Training on Epoch 34 is 0.1651829481124878\n",
      "Starting epoch number 35\n",
      "Loss for Training on Epoch 35 is 0.16605046391487122\n",
      "-------  Class: aeroplane        AP:   0.5018  -------\n",
      "-------  Class: bicycle          AP:   0.2801  -------\n",
      "-------  Class: bird             AP:   0.1925  -------\n",
      "-------  Class: boat             AP:   0.3447  -------\n",
      "-------  Class: bottle           AP:   0.1153  -------\n",
      "-------  Class: bus              AP:   0.2567  -------\n",
      "-------  Class: car              AP:   0.5496  -------\n",
      "-------  Class: cat              AP:   0.3873  -------\n",
      "-------  Class: chair            AP:   0.4228  -------\n",
      "-------  Class: cow              AP:   0.1753  -------\n",
      "-------  Class: diningtable      AP:   0.2962  -------\n",
      "-------  Class: dog              AP:   0.2494  -------\n",
      "-------  Class: horse            AP:   0.4402  -------\n",
      "-------  Class: motorbike        AP:   0.3962  -------\n",
      "-------  Class: person           AP:   0.7186  -------\n",
      "-------  Class: pottedplant      AP:   0.1670  -------\n",
      "-------  Class: sheep            AP:   0.1960  -------\n",
      "-------  Class: sofa             AP:   0.2753  -------\n",
      "-------  Class: train            AP:   0.4577  -------\n",
      "-------  Class: tvmonitor        AP:   0.2599  -------\n",
      "mAP: 0.3341\n",
      "Avg loss: 0.18954138740708557\n",
      "Evaluating classifier\n",
      "Mean Precision Score for Testing on Epoch 35 is 0.3341288992589554\n",
      "Starting epoch number 36\n",
      "Loss for Training on Epoch 36 is 0.16423048079013824\n",
      "Starting epoch number 37\n",
      "Loss for Training on Epoch 37 is 0.16370277106761932\n",
      "Starting epoch number 38\n",
      "Loss for Training on Epoch 38 is 0.16348008811473846\n",
      "Starting epoch number 39\n",
      "Loss for Training on Epoch 39 is 0.16148598492145538\n",
      "Starting epoch number 40\n",
      "Loss for Training on Epoch 40 is 0.15977880358695984\n",
      "-------  Class: aeroplane        AP:   0.5197  -------\n",
      "-------  Class: bicycle          AP:   0.3045  -------\n",
      "-------  Class: bird             AP:   0.2008  -------\n",
      "-------  Class: boat             AP:   0.3350  -------\n",
      "-------  Class: bottle           AP:   0.1243  -------\n",
      "-------  Class: bus              AP:   0.2961  -------\n",
      "-------  Class: car              AP:   0.5640  -------\n",
      "-------  Class: cat              AP:   0.3995  -------\n",
      "-------  Class: chair            AP:   0.4410  -------\n",
      "-------  Class: cow              AP:   0.1617  -------\n",
      "-------  Class: diningtable      AP:   0.3235  -------\n",
      "-------  Class: dog              AP:   0.2506  -------\n",
      "-------  Class: horse            AP:   0.4757  -------\n",
      "-------  Class: motorbike        AP:   0.4221  -------\n",
      "-------  Class: person           AP:   0.7250  -------\n",
      "-------  Class: pottedplant      AP:   0.1626  -------\n",
      "-------  Class: sheep            AP:   0.2218  -------\n",
      "-------  Class: sofa             AP:   0.2899  -------\n",
      "-------  Class: train            AP:   0.4961  -------\n",
      "-------  Class: tvmonitor        AP:   0.2651  -------\n",
      "mAP: 0.3489\n",
      "Avg loss: 0.18379762429225294\n",
      "Evaluating classifier\n",
      "Mean Precision Score for Testing on Epoch 40 is 0.34894415937332296\n",
      "Starting epoch number 41\n",
      "Loss for Training on Epoch 41 is 0.15839119255542755\n",
      "Starting epoch number 42\n",
      "Loss for Training on Epoch 42 is 0.15817716717720032\n",
      "Starting epoch number 43\n",
      "Loss for Training on Epoch 43 is 0.15740305185317993\n",
      "Starting epoch number 44\n",
      "Loss for Training on Epoch 44 is 0.1561143398284912\n",
      "Starting epoch number 45\n",
      "Loss for Training on Epoch 45 is 0.15558381378650665\n",
      "-------  Class: aeroplane        AP:   0.5402  -------\n",
      "-------  Class: bicycle          AP:   0.3116  -------\n",
      "-------  Class: bird             AP:   0.2367  -------\n",
      "-------  Class: boat             AP:   0.3569  -------\n",
      "-------  Class: bottle           AP:   0.1186  -------\n",
      "-------  Class: bus              AP:   0.3191  -------\n",
      "-------  Class: car              AP:   0.5534  -------\n",
      "-------  Class: cat              AP:   0.3822  -------\n",
      "-------  Class: chair            AP:   0.4358  -------\n",
      "-------  Class: cow              AP:   0.1826  -------\n",
      "-------  Class: diningtable      AP:   0.3386  -------\n",
      "-------  Class: dog              AP:   0.2464  -------\n",
      "-------  Class: horse            AP:   0.4907  -------\n",
      "-------  Class: motorbike        AP:   0.4437  -------\n",
      "-------  Class: person           AP:   0.7199  -------\n",
      "-------  Class: pottedplant      AP:   0.1525  -------\n",
      "-------  Class: sheep            AP:   0.1927  -------\n",
      "-------  Class: sofa             AP:   0.3230  -------\n",
      "-------  Class: train            AP:   0.5064  -------\n",
      "-------  Class: tvmonitor        AP:   0.2647  -------\n",
      "mAP: 0.3558\n",
      "Avg loss: 0.18619244159022463\n",
      "Evaluating classifier\n",
      "Mean Precision Score for Testing on Epoch 45 is 0.3557847720791173\n",
      "Starting epoch number 46\n",
      "Loss for Training on Epoch 46 is 0.1538950800895691\n",
      "Starting epoch number 47\n",
      "Loss for Training on Epoch 47 is 0.15263478457927704\n",
      "Starting epoch number 48\n",
      "Loss for Training on Epoch 48 is 0.1542508900165558\n",
      "Starting epoch number 49\n",
      "Loss for Training on Epoch 49 is 0.151712566614151\n",
      "Starting epoch number 50\n",
      "Loss for Training on Epoch 50 is 0.15184465050697327\n",
      "-------  Class: aeroplane        AP:   0.5390  -------\n",
      "-------  Class: bicycle          AP:   0.3210  -------\n",
      "-------  Class: bird             AP:   0.2321  -------\n",
      "-------  Class: boat             AP:   0.3671  -------\n",
      "-------  Class: bottle           AP:   0.1319  -------\n",
      "-------  Class: bus              AP:   0.2862  -------\n",
      "-------  Class: car              AP:   0.5602  -------\n",
      "-------  Class: cat              AP:   0.3737  -------\n",
      "-------  Class: chair            AP:   0.4398  -------\n",
      "-------  Class: cow              AP:   0.1802  -------\n",
      "-------  Class: diningtable      AP:   0.3659  -------\n",
      "-------  Class: dog              AP:   0.2589  -------\n",
      "-------  Class: horse            AP:   0.4850  -------\n",
      "-------  Class: motorbike        AP:   0.4611  -------\n",
      "-------  Class: person           AP:   0.7303  -------\n",
      "-------  Class: pottedplant      AP:   0.1568  -------\n",
      "-------  Class: sheep            AP:   0.1803  -------\n",
      "-------  Class: sofa             AP:   0.3152  -------\n",
      "-------  Class: train            AP:   0.4991  -------\n",
      "-------  Class: tvmonitor        AP:   0.2716  -------\n",
      "mAP: 0.3578\n",
      "Avg loss: 0.18324867041805123\n",
      "Evaluating classifier\n",
      "Mean Precision Score for Testing on Epoch 50 is 0.357772942289048\n",
      "Starting epoch number 51\n",
      "Loss for Training on Epoch 51 is 0.1513548344373703\n",
      "Starting epoch number 52\n",
      "Loss for Training on Epoch 52 is 0.14880263805389404\n",
      "Starting epoch number 53\n",
      "Loss for Training on Epoch 53 is 0.1498267948627472\n",
      "Starting epoch number 54\n",
      "Loss for Training on Epoch 54 is 0.14975664019584656\n",
      "Starting epoch number 55\n",
      "Loss for Training on Epoch 55 is 0.14889398217201233\n",
      "-------  Class: aeroplane        AP:   0.5470  -------\n",
      "-------  Class: bicycle          AP:   0.3036  -------\n",
      "-------  Class: bird             AP:   0.2437  -------\n",
      "-------  Class: boat             AP:   0.3637  -------\n",
      "-------  Class: bottle           AP:   0.1210  -------\n",
      "-------  Class: bus              AP:   0.3386  -------\n",
      "-------  Class: car              AP:   0.5580  -------\n",
      "-------  Class: cat              AP:   0.3742  -------\n",
      "-------  Class: chair            AP:   0.4346  -------\n",
      "-------  Class: cow              AP:   0.1865  -------\n",
      "-------  Class: diningtable      AP:   0.3312  -------\n",
      "-------  Class: dog              AP:   0.2550  -------\n",
      "-------  Class: horse            AP:   0.4646  -------\n",
      "-------  Class: motorbike        AP:   0.4561  -------\n",
      "-------  Class: person           AP:   0.7174  -------\n",
      "-------  Class: pottedplant      AP:   0.1500  -------\n",
      "-------  Class: sheep            AP:   0.2237  -------\n",
      "-------  Class: sofa             AP:   0.2942  -------\n",
      "-------  Class: train            AP:   0.4975  -------\n",
      "-------  Class: tvmonitor        AP:   0.2660  -------\n",
      "mAP: 0.3563\n",
      "Avg loss: 0.1855234522608262\n",
      "Evaluating classifier\n",
      "Mean Precision Score for Testing on Epoch 55 is 0.3563250375632029\n",
      "Starting epoch number 56\n",
      "Loss for Training on Epoch 56 is 0.14640893042087555\n",
      "Starting epoch number 57\n",
      "Loss for Training on Epoch 57 is 0.1480131298303604\n",
      "Starting epoch number 58\n",
      "Loss for Training on Epoch 58 is 0.14802300930023193\n",
      "Starting epoch number 59\n",
      "Loss for Training on Epoch 59 is 0.1454239934682846\n",
      "Starting epoch number 60\n",
      "Loss for Training on Epoch 60 is 0.14466756582260132\n",
      "-------  Class: aeroplane        AP:   0.5625  -------\n",
      "-------  Class: bicycle          AP:   0.3184  -------\n",
      "-------  Class: bird             AP:   0.2537  -------\n",
      "-------  Class: boat             AP:   0.3635  -------\n",
      "-------  Class: bottle           AP:   0.1146  -------\n",
      "-------  Class: bus              AP:   0.3206  -------\n",
      "-------  Class: car              AP:   0.5610  -------\n",
      "-------  Class: cat              AP:   0.3772  -------\n",
      "-------  Class: chair            AP:   0.4431  -------\n",
      "-------  Class: cow              AP:   0.1758  -------\n",
      "-------  Class: diningtable      AP:   0.3503  -------\n",
      "-------  Class: dog              AP:   0.2728  -------\n",
      "-------  Class: horse            AP:   0.4971  -------\n",
      "-------  Class: motorbike        AP:   0.4850  -------\n",
      "-------  Class: person           AP:   0.7314  -------\n",
      "-------  Class: pottedplant      AP:   0.1403  -------\n",
      "-------  Class: sheep            AP:   0.1911  -------\n",
      "-------  Class: sofa             AP:   0.2858  -------\n",
      "-------  Class: train            AP:   0.5263  -------\n",
      "-------  Class: tvmonitor        AP:   0.2468  -------\n",
      "mAP: 0.3609\n",
      "Avg loss: 0.18506430014024808\n",
      "Evaluating classifier\n",
      "Mean Precision Score for Testing on Epoch 60 is 0.3608689461006568\n"
     ]
    }
   ],
   "source": [
    "# TODO: Run your own classifier here\n",
    "# classifier = MSVGG16().to(device)\n",
    "classifier = TestNet().to(device)\n",
    "# classifier = SimpleClassifier().to(device)\n",
    "criterion = nn.MultiLabelSoftMarginLoss()\n",
    "# optimizer = torch.optim.SGD(classifier.parameters(), lr=0.01, momentum=0.9)\n",
    "optimizer = torch.optim.Adam(classifier.parameters(), lr=1e-4)\n",
    "\n",
    "classifier, train_losses, val_losses, train_mAPs, val_mAPs = train(classifier, num_epochs, train_loader, val_loader, criterion, optimizer, test_frequency)\n"
   ]
  },
  {
   "cell_type": "code",
   "execution_count": 13,
   "metadata": {
    "colab": {
     "base_uri": "https://localhost:8080/",
     "height": 573
    },
    "executionInfo": {
     "elapsed": 3067006,
     "status": "ok",
     "timestamp": 1604894072172,
     "user": {
      "displayName": "Yutong Xie",
      "photoUrl": "https://lh3.googleusercontent.com/a-/AOh14GhXdeoCfgkQhGM6Y9yxqYJammXB7UaVouj7KqsW=s64",
      "userId": "16538548856605091169"
     },
     "user_tz": 360
    },
    "id": "LjiaTAA0pmFb",
    "outputId": "9034309f-4b90-4ff1-dfb0-07c134decfc7"
   },
   "outputs": [
    {
     "data": {
      "image/png": "[encoded data removed]",
      "text/plain": [
       "<Figure size 432x288 with 1 Axes>"
      ]
     },
     "metadata": {
      "needs_background": "light",
      "tags": []
     },
     "output_type": "display_data"
    },
    {
     "data": {
      "image/png": "[encoded data removed]",
      "text/plain": [
       "<Figure size 432x288 with 1 Axes>"
      ]
     },
     "metadata": {
      "needs_background": "light",
      "tags": []
     },
     "output_type": "display_data"
    }
   ],
   "source": [
    "plot_losses(train_losses, val_losses, test_frequency, num_epochs)\n",
    "plot_mAP(train_mAPs, val_mAPs, test_frequency, num_epochs)"
   ]
  },
  {
   "cell_type": "code",
   "execution_count": 14,
   "metadata": {
    "colab": {
     "base_uri": "https://localhost:8080/",
     "height": 0
    },
    "executionInfo": {
     "elapsed": 3102332,
     "status": "ok",
     "timestamp": 1604894107500,
     "user": {
      "displayName": "Yutong Xie",
      "photoUrl": "https://lh3.googleusercontent.com/a-/AOh14GhXdeoCfgkQhGM6Y9yxqYJammXB7UaVouj7KqsW=s64",
      "userId": "16538548856605091169"
     },
     "user_tz": 360
    },
    "id": "vRcbltZVpmFd",
    "outputId": "71b8df7f-cf8f-4253-dd74-a5e8cf6ebea4"
   },
   "outputs": [
    {
     "name": "stdout",
     "output_type": "stream",
     "text": [
      "-------  Class: aeroplane        AP:   0.5876  -------\n",
      "-------  Class: bicycle          AP:   0.2713  -------\n",
      "-------  Class: bird             AP:   0.2386  -------\n",
      "-------  Class: boat             AP:   0.3680  -------\n",
      "-------  Class: bottle           AP:   0.1235  -------\n",
      "-------  Class: bus              AP:   0.2439  -------\n",
      "-------  Class: car              AP:   0.5884  -------\n",
      "-------  Class: cat              AP:   0.3465  -------\n",
      "-------  Class: chair            AP:   0.4322  -------\n",
      "-------  Class: cow              AP:   0.1915  -------\n",
      "-------  Class: diningtable      AP:   0.2970  -------\n",
      "-------  Class: dog              AP:   0.2837  -------\n",
      "-------  Class: horse            AP:   0.5753  -------\n",
      "-------  Class: motorbike        AP:   0.4550  -------\n",
      "-------  Class: person           AP:   0.7352  -------\n",
      "-------  Class: pottedplant      AP:   0.1429  -------\n",
      "-------  Class: sheep            AP:   0.2191  -------\n",
      "-------  Class: sofa             AP:   0.2782  -------\n",
      "-------  Class: train            AP:   0.5166  -------\n",
      "-------  Class: tvmonitor        AP:   0.2715  -------\n",
      "mAP: 0.3583\n",
      "Avg loss: 0.18181187741218074\n",
      "0.3582971605129533\n"
     ]
    }
   ],
   "source": [
    "mAP_test, test_loss, test_aps = test_classifier(test_loader, classifier, criterion)\n",
    "print(mAP_test)"
   ]
  },
  {
   "cell_type": "code",
   "execution_count": 15,
   "metadata": {
    "executionInfo": {
     "elapsed": 3105442,
     "status": "ok",
     "timestamp": 1604894110620,
     "user": {
      "displayName": "Yutong Xie",
      "photoUrl": "https://lh3.googleusercontent.com/a-/AOh14GhXdeoCfgkQhGM6Y9yxqYJammXB7UaVouj7KqsW=s64",
      "userId": "16538548856605091169"
     },
     "user_tz": 360
    },
    "id": "WU1tihn_pmFf"
   },
   "outputs": [],
   "source": [
    "torch.save(classifier.state_dict(), './voc_my_best_classifier.pth')\n",
    "output_submission_csv('my_solution.csv', test_aps)"
   ]
  },
  {
   "cell_type": "code",
   "execution_count": 15,
   "metadata": {
    "executionInfo": {
     "elapsed": 3105440,
     "status": "ok",
     "timestamp": 1604894110622,
     "user": {
      "displayName": "Yutong Xie",
      "photoUrl": "https://lh3.googleusercontent.com/a-/AOh14GhXdeoCfgkQhGM6Y9yxqYJammXB7UaVouj7KqsW=s64",
      "userId": "16538548856605091169"
     },
     "user_tz": 360
    },
    "id": "1CYlV5dnpmFh"
   },
   "outputs": [],
   "source": []
  }
 ],
 "metadata": {
  "accelerator": "GPU",
  "colab": {
   "collapsed_sections": [],
   "name": "MP3_P1B_Develop_Classifier.ipynb",
   "provenance": []
  },
  "kernelspec": {
   "display_name": "Python 3",
   "language": "python",
   "name": "python3"
  },
  "language_info": {
   "codemirror_mode": {
    "name": "ipython",
    "version": 3
   },
   "file_extension": ".py",
   "mimetype": "text/x-python",
   "name": "python",
   "nbconvert_exporter": "python",
   "pygments_lexer": "ipython3",
   "version": "3.8.3"
  }
 },
 "nbformat": 4,
 "nbformat_minor": 1
}
