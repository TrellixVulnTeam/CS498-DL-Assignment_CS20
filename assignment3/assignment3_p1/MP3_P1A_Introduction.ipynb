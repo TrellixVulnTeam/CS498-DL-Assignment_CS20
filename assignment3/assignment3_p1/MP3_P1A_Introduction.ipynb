{
 "cells": [
  {
   "cell_type": "code",
   "execution_count": 1,
   "metadata": {
    "colab": {
     "base_uri": "https://localhost:8080/",
     "height": 34
    },
    "executionInfo": {
     "elapsed": 3020,
     "status": "ok",
     "timestamp": 1602900115303,
     "user": {
      "displayName": "Yutong Xie",
      "photoUrl": "https://lh3.googleusercontent.com/a-/AOh14GhXdeoCfgkQhGM6Y9yxqYJammXB7UaVouj7KqsW=s64",
      "userId": "16538548856605091169"
     },
     "user_tz": 300
    },
    "id": "sTtmdtExrAi4",
    "outputId": "f8e4afca-0f36-49d6-b2d4-8eb70b943332"
   },
   "outputs": [
    {
     "name": "stdout",
     "output_type": "stream",
     "text": [
      "Drive already mounted at /content/gdrive; to attempt to forcibly remount, call drive.mount(\"/content/gdrive\", force_remount=True).\n"
     ]
    }
   ],
   "source": [
    "from google.colab import drive\n",
    "drive.mount('/content/gdrive')\n",
    "import os\n",
    "os.chdir(\"gdrive/My Drive/assignment3_p1\")"
   ]
  },
  {
   "cell_type": "code",
   "execution_count": 2,
   "metadata": {
    "colab": {
     "base_uri": "https://localhost:8080/",
     "height": 85
    },
    "executionInfo": {
     "elapsed": 3801,
     "status": "ok",
     "timestamp": 1602900116092,
     "user": {
      "displayName": "Yutong Xie",
      "photoUrl": "https://lh3.googleusercontent.com/a-/AOh14GhXdeoCfgkQhGM6Y9yxqYJammXB7UaVouj7KqsW=s64",
      "userId": "16538548856605091169"
     },
     "user_tz": 300
    },
    "id": "X-GQPuwyuyOw",
    "outputId": "e3e9a176-b031-4af6-d7ea-44a55b01bcff"
   },
   "outputs": [
    {
     "name": "stdout",
     "output_type": "stream",
     "text": [
      "nvcc: NVIDIA (R) Cuda compiler driver\n",
      "Copyright (c) 2005-2019 NVIDIA Corporation\n",
      "Built on Sun_Jul_28_19:07:16_PDT_2019\n",
      "Cuda compilation tools, release 10.1, V10.1.243\n"
     ]
    }
   ],
   "source": [
    "!nvcc --version"
   ]
  },
  {
   "cell_type": "code",
   "execution_count": 3,
   "metadata": {
    "colab": {
     "base_uri": "https://localhost:8080/",
     "height": 119
    },
    "executionInfo": {
     "elapsed": 6313,
     "status": "ok",
     "timestamp": 1602900118611,
     "user": {
      "displayName": "Yutong Xie",
      "photoUrl": "https://lh3.googleusercontent.com/a-/AOh14GhXdeoCfgkQhGM6Y9yxqYJammXB7UaVouj7KqsW=s64",
      "userId": "16538548856605091169"
     },
     "user_tz": 300
    },
    "id": "XN9OIgSzrBZe",
    "outputId": "7f0e2e7e-717c-4a3d-ead5-42a524b85dc8"
   },
   "outputs": [
    {
     "name": "stdout",
     "output_type": "stream",
     "text": [
      "Looking in links: https://download.pytorch.org/whl/torch_stable.html\n",
      "Requirement already satisfied: torch==1.5.1+cu101 in /usr/local/lib/python3.6/dist-packages (1.5.1+cu101)\n",
      "Requirement already satisfied: torchvision==0.6.1+cu101 in /usr/local/lib/python3.6/dist-packages (0.6.1+cu101)\n",
      "Requirement already satisfied: numpy in /usr/local/lib/python3.6/dist-packages (from torch==1.5.1+cu101) (1.18.5)\n",
      "Requirement already satisfied: future in /usr/local/lib/python3.6/dist-packages (from torch==1.5.1+cu101) (0.16.0)\n",
      "Requirement already satisfied: pillow>=4.1.1 in /usr/local/lib/python3.6/dist-packages (from torchvision==0.6.1+cu101) (7.0.0)\n"
     ]
    }
   ],
   "source": [
    "!pip install torch==1.5.1+cu101 torchvision==0.6.1+cu101 -f https://download.pytorch.org/whl/torch_stable.html"
   ]
  },
  {
   "cell_type": "code",
   "execution_count": 4,
   "metadata": {
    "colab": {
     "base_uri": "https://localhost:8080/",
     "height": 34
    },
    "executionInfo": {
     "elapsed": 1059,
     "status": "ok",
     "timestamp": 1602900166257,
     "user": {
      "displayName": "Yutong Xie",
      "photoUrl": "https://lh3.googleusercontent.com/a-/AOh14GhXdeoCfgkQhGM6Y9yxqYJammXB7UaVouj7KqsW=s64",
      "userId": "16538548856605091169"
     },
     "user_tz": 300
    },
    "id": "uCq4iICerBe3",
    "outputId": "74dafde7-af3c-40a1-c059-8ff152f4c8b2"
   },
   "outputs": [
    {
     "name": "stdout",
     "output_type": "stream",
     "text": [
      "  VOCtrainval_06-No   3%[                    ]  16.60M   341KB/s    eta 19m 25s^C\n"
     ]
    }
   ],
   "source": [
    "# !bash download_data.sh"
   ]
  },
  {
   "cell_type": "code",
   "execution_count": 23,
   "metadata": {
    "colab": {
     "base_uri": "https://localhost:8080/",
     "height": 351
    },
    "executionInfo": {
     "elapsed": 9184,
     "status": "error",
     "timestamp": 1602900727669,
     "user": {
      "displayName": "Yutong Xie",
      "photoUrl": "https://lh3.googleusercontent.com/a-/AOh14GhXdeoCfgkQhGM6Y9yxqYJammXB7UaVouj7KqsW=s64",
      "userId": "16538548856605091169"
     },
     "user_tz": 300
    },
    "id": "Bhnwjc1DsL55",
    "outputId": "4285b708-b0c1-4469-b53e-dc3d2590c86c"
   },
   "outputs": [
    {
     "ename": "Error",
     "evalue": "ignored",
     "output_type": "error",
     "traceback": [
      "\u001b[0;31m---------------------------------------------------------------------------\u001b[0m",
      "\u001b[0;31mError\u001b[0m                                     Traceback (most recent call last)",
      "\u001b[0;32m<ipython-input-23-78e0f89b1eca>\u001b[0m in \u001b[0;36m<module>\u001b[0;34m()\u001b[0m\n\u001b[1;32m      2\u001b[0m \u001b[0mshutil\u001b[0m\u001b[0;34m.\u001b[0m\u001b[0mcopyfile\u001b[0m\u001b[0;34m(\u001b[0m\u001b[0;34m\"VOCtrainval_06-Nov-2007.tar\"\u001b[0m\u001b[0;34m,\u001b[0m \u001b[0;34m\"/content/VOCtrainval_06-Nov-2007.tar\"\u001b[0m\u001b[0;34m)\u001b[0m\u001b[0;34m\u001b[0m\u001b[0;34m\u001b[0m\u001b[0m\n\u001b[1;32m      3\u001b[0m \u001b[0mget_ipython\u001b[0m\u001b[0;34m(\u001b[0m\u001b[0;34m)\u001b[0m\u001b[0;34m.\u001b[0m\u001b[0msystem\u001b[0m\u001b[0;34m(\u001b[0m\u001b[0;34m'tar -xf \"/content/VOCtrainval_06-Nov-2007.tar\" -C \"/content/\" '\u001b[0m\u001b[0;34m)\u001b[0m\u001b[0;34m\u001b[0m\u001b[0;34m\u001b[0m\u001b[0m\n\u001b[0;32m----> 4\u001b[0;31m \u001b[0mshutil\u001b[0m\u001b[0;34m.\u001b[0m\u001b[0mmove\u001b[0m\u001b[0;34m(\u001b[0m\u001b[0;34m\"/content/VOCdevkit/\"\u001b[0m\u001b[0;34m,\u001b[0m \u001b[0;34m\"/content/VOCdevkit_2007\"\u001b[0m\u001b[0;34m)\u001b[0m\u001b[0;34m\u001b[0m\u001b[0;34m\u001b[0m\u001b[0m\n\u001b[0m\u001b[1;32m      5\u001b[0m \u001b[0;34m\u001b[0m\u001b[0m\n\u001b[1;32m      6\u001b[0m \u001b[0mshutil\u001b[0m\u001b[0;34m.\u001b[0m\u001b[0mcopyfile\u001b[0m\u001b[0;34m(\u001b[0m\u001b[0;34m\"VOCtest_06-Nov-2007.tar\"\u001b[0m\u001b[0;34m,\u001b[0m \u001b[0;34m\"/content/VOCtest_06-Nov-2007.tar\"\u001b[0m\u001b[0;34m)\u001b[0m\u001b[0;34m\u001b[0m\u001b[0;34m\u001b[0m\u001b[0m\n",
      "\u001b[0;32m/usr/lib/python3.6/shutil.py\u001b[0m in \u001b[0;36mmove\u001b[0;34m(src, dst, copy_function)\u001b[0m\n\u001b[1;32m    546\u001b[0m         \u001b[0mreal_dst\u001b[0m \u001b[0;34m=\u001b[0m \u001b[0mos\u001b[0m\u001b[0;34m.\u001b[0m\u001b[0mpath\u001b[0m\u001b[0;34m.\u001b[0m\u001b[0mjoin\u001b[0m\u001b[0;34m(\u001b[0m\u001b[0mdst\u001b[0m\u001b[0;34m,\u001b[0m \u001b[0m_basename\u001b[0m\u001b[0;34m(\u001b[0m\u001b[0msrc\u001b[0m\u001b[0;34m)\u001b[0m\u001b[0;34m)\u001b[0m\u001b[0;34m\u001b[0m\u001b[0;34m\u001b[0m\u001b[0m\n\u001b[1;32m    547\u001b[0m         \u001b[0;32mif\u001b[0m \u001b[0mos\u001b[0m\u001b[0;34m.\u001b[0m\u001b[0mpath\u001b[0m\u001b[0;34m.\u001b[0m\u001b[0mexists\u001b[0m\u001b[0;34m(\u001b[0m\u001b[0mreal_dst\u001b[0m\u001b[0;34m)\u001b[0m\u001b[0;34m:\u001b[0m\u001b[0;34m\u001b[0m\u001b[0;34m\u001b[0m\u001b[0m\n\u001b[0;32m--> 548\u001b[0;31m             \u001b[0;32mraise\u001b[0m \u001b[0mError\u001b[0m\u001b[0;34m(\u001b[0m\u001b[0;34m\"Destination path '%s' already exists\"\u001b[0m \u001b[0;34m%\u001b[0m \u001b[0mreal_dst\u001b[0m\u001b[0;34m)\u001b[0m\u001b[0;34m\u001b[0m\u001b[0;34m\u001b[0m\u001b[0m\n\u001b[0m\u001b[1;32m    549\u001b[0m     \u001b[0;32mtry\u001b[0m\u001b[0;34m:\u001b[0m\u001b[0;34m\u001b[0m\u001b[0;34m\u001b[0m\u001b[0m\n\u001b[1;32m    550\u001b[0m         \u001b[0mos\u001b[0m\u001b[0;34m.\u001b[0m\u001b[0mrename\u001b[0m\u001b[0;34m(\u001b[0m\u001b[0msrc\u001b[0m\u001b[0;34m,\u001b[0m \u001b[0mreal_dst\u001b[0m\u001b[0;34m)\u001b[0m\u001b[0;34m\u001b[0m\u001b[0;34m\u001b[0m\u001b[0m\n",
      "\u001b[0;31mError\u001b[0m: Destination path '/content/VOCdevkit_2007/VOCdevkit' already exists"
     ]
    }
   ],
   "source": [
    "# import shutil \n",
    "# shutil.copyfile(\"VOCtrainval_06-Nov-2007.tar\", \"/content/VOCtrainval_06-Nov-2007.tar\")\n",
    "# !tar -xf \"/content/VOCtrainval_06-Nov-2007.tar\" -C \"/content/\" \n",
    "# shutil.move(\"/content/VOCdevkit/\", \"/content/VOCdevkit_2007\")\n",
    "\n",
    "# shutil.copyfile(\"VOCtest_06-Nov-2007.tar\", \"/content/VOCtest_06-Nov-2007.tar\")\n",
    "# !tar -xf \"/content/VOCtest_06-Nov-2007.tar\" -C \"/content/\" \n",
    "# shutil.move(\"/content/VOCdevkit/VOC2007\", \"/content/VOCdevkit_2007/VOC2007test\")"
   ]
  },
  {
   "cell_type": "markdown",
   "metadata": {
    "id": "ARbwW5_SqVOo"
   },
   "source": [
    "# Assignment 3 Part 1A Introduction: Multi-label Image Classification"
   ]
  },
  {
   "cell_type": "code",
   "execution_count": 6,
   "metadata": {
    "executionInfo": {
     "elapsed": 65370,
     "status": "ok",
     "timestamp": 1602900177808,
     "user": {
      "displayName": "Yutong Xie",
      "photoUrl": "https://lh3.googleusercontent.com/a-/AOh14GhXdeoCfgkQhGM6Y9yxqYJammXB7UaVouj7KqsW=s64",
      "userId": "16538548856605091169"
     },
     "user_tz": 300
    },
    "id": "54lZ9n2jqVOp"
   },
   "outputs": [],
   "source": [
    "import os\n",
    "import numpy as np\n",
    "import torch\n",
    "import torch.nn as nn\n",
    "import torchvision\n",
    "\n",
    "from torchvision import transforms\n",
    "from sklearn.metrics import average_precision_score\n",
    "from PIL import Image, ImageDraw\n",
    "import matplotlib.pyplot as plt\n",
    "from kaggle_submission import output_submission_csv\n",
    "from classifier import SimpleClassifier, Classifier#, AlexNet\n",
    "from voc_dataloader import VocDataset, VOC_CLASSES\n",
    "\n",
    "%matplotlib inline\n",
    "%load_ext autoreload\n",
    "%autoreload 2"
   ]
  },
  {
   "cell_type": "markdown",
   "metadata": {
    "id": "QdC-GqlGqVOs"
   },
   "source": [
    "# Multi-label Classification\n",
    "In this assignment, you train a classifier to do multi-label classificaton on the PASCAL VOC 2007 dataset. The dataset has 20 different class which can appear in any given image. Your classifier will predict whether each class appears in an image. This task is slightly different from exclusive multiclass classification like the ImageNet competition where only a single most appropriate class is predicted for an image.\n",
    "\n",
    "## Part 1A\n",
    "You will use this notebook to warm up with pytorch and the code+dataset that we will use for assignment3. \n",
    "\n",
    "### What to do\n",
    "In part 1A, You are asked to run below experiments. You don't need to change hyperparameters for this Part 1A's experiments. (the following code provides everything that you will need.)\n",
    "1. to train a simple network (defined in ```classifiers.py```) \n",
    "2. to train the AlexNet (PyTorch built-in) \n",
    "    - from scratch \n",
    "    - finetuning AlexNet pretrained on ImageNet\n",
    "\n",
    "\n",
    "    \n",
    "### What to submit\n",
    "We ask you to run the following code and report the results in your homework submission. You may want to leverage this part 1A get yourself familiar with PyTorch.\n",
    "\n",
    "You will the need the numbers and plots this notebook outputs for reports, but you are not required to submit this notebook as a printed pdf. "
   ]
  },
  {
   "cell_type": "markdown",
   "metadata": {
    "id": "CGGcyxR3qVOs"
   },
   "source": [
    "## Reading Pascal Data"
   ]
  },
  {
   "cell_type": "markdown",
   "metadata": {
    "id": "dN2k5CidqVOt"
   },
   "source": [
    "### Loading Training Data"
   ]
  },
  {
   "cell_type": "markdown",
   "metadata": {
    "id": "oDYKdNptqVOt"
   },
   "source": [
    "In the following cell we will load the training data and also apply some transforms to the data. "
   ]
  },
  {
   "cell_type": "code",
   "execution_count": 7,
   "metadata": {
    "executionInfo": {
     "elapsed": 65361,
     "status": "ok",
     "timestamp": 1602900177812,
     "user": {
      "displayName": "Yutong Xie",
      "photoUrl": "https://lh3.googleusercontent.com/a-/AOh14GhXdeoCfgkQhGM6Y9yxqYJammXB7UaVouj7KqsW=s64",
      "userId": "16538548856605091169"
     },
     "user_tz": 300
    },
    "id": "joUwZaPwqVOu"
   },
   "outputs": [],
   "source": [
    "# Transforms applied to the training data\n",
    "normalize = transforms.Normalize(mean=[0.485, 0.456, 0.406],\n",
    "                                     std= [0.229, 0.224, 0.225])\n",
    "\n",
    "train_transform = transforms.Compose([\n",
    "            transforms.Resize(227),\n",
    "            transforms.CenterCrop(227),\n",
    "            transforms.ToTensor(),\n",
    "            normalize\n",
    "        ])\n"
   ]
  },
  {
   "cell_type": "code",
   "execution_count": 8,
   "metadata": {
    "executionInfo": {
     "elapsed": 66563,
     "status": "ok",
     "timestamp": 1602900179020,
     "user": {
      "displayName": "Yutong Xie",
      "photoUrl": "https://lh3.googleusercontent.com/a-/AOh14GhXdeoCfgkQhGM6Y9yxqYJammXB7UaVouj7KqsW=s64",
      "userId": "16538548856605091169"
     },
     "user_tz": 300
    },
    "id": "T6SRffX6M2xS"
   },
   "outputs": [],
   "source": [
    "ds_train = VocDataset('/content/VOCdevkit_2007/VOC2007','train',train_transform)"
   ]
  },
  {
   "cell_type": "markdown",
   "metadata": {
    "id": "CZTK1wF4qVOy"
   },
   "source": [
    "### Loading Validation Data"
   ]
  },
  {
   "cell_type": "markdown",
   "metadata": {
    "id": "vc2G0qrlqVOz"
   },
   "source": [
    "We will load the test data for the PASCAL VOC 2007 dataset. Do __NOT__ add data augmentation transforms to validation data."
   ]
  },
  {
   "cell_type": "code",
   "execution_count": 9,
   "metadata": {
    "executionInfo": {
     "elapsed": 66541,
     "status": "ok",
     "timestamp": 1602900179022,
     "user": {
      "displayName": "Yutong Xie",
      "photoUrl": "https://lh3.googleusercontent.com/a-/AOh14GhXdeoCfgkQhGM6Y9yxqYJammXB7UaVouj7KqsW=s64",
      "userId": "16538548856605091169"
     },
     "user_tz": 300
    },
    "id": "z51Dqs6HqVOz"
   },
   "outputs": [],
   "source": [
    "# Transforms applied to the testing data\n",
    "test_transform = transforms.Compose([\n",
    "            transforms.Resize(227),\n",
    "            transforms.CenterCrop(227),\n",
    "            transforms.ToTensor(),\n",
    "            normalize,\n",
    "        ])"
   ]
  },
  {
   "cell_type": "code",
   "execution_count": 10,
   "metadata": {
    "executionInfo": {
     "elapsed": 69552,
     "status": "ok",
     "timestamp": 1602900182050,
     "user": {
      "displayName": "Yutong Xie",
      "photoUrl": "https://lh3.googleusercontent.com/a-/AOh14GhXdeoCfgkQhGM6Y9yxqYJammXB7UaVouj7KqsW=s64",
      "userId": "16538548856605091169"
     },
     "user_tz": 300
    },
    "id": "7XiJK8SaqVO2"
   },
   "outputs": [],
   "source": [
    "ds_val = VocDataset('/content/VOCdevkit_2007/VOC2007/','val',test_transform)"
   ]
  },
  {
   "cell_type": "markdown",
   "metadata": {
    "id": "lrIsW4LzqVO4"
   },
   "source": [
    "### Visualizing the Data\n",
    "\n",
    "PASCAL VOC has bounding box annotations in addition to class labels. Use the following code to visualize some random examples and corresponding annotations from the train set. "
   ]
  },
  {
   "cell_type": "code",
   "execution_count": 11,
   "metadata": {
    "colab": {
     "base_uri": "https://localhost:8080/",
     "height": 1000,
     "output_embedded_package_id": "1hc1b-iyT_57LzCTYjZ97f38HU1bo0DWu"
    },
    "executionInfo": {
     "elapsed": 77868,
     "status": "ok",
     "timestamp": 1602900190423,
     "user": {
      "displayName": "Yutong Xie",
      "photoUrl": "https://lh3.googleusercontent.com/a-/AOh14GhXdeoCfgkQhGM6Y9yxqYJammXB7UaVouj7KqsW=s64",
      "userId": "16538548856605091169"
     },
     "user_tz": 300
    },
    "id": "0wNYjEj1qVO4",
    "outputId": "a9fc0174-74ce-4c34-d182-e4023edd203b"
   },
   "outputs": [
    {
     "data": {
      "text/plain": [
       "Output hidden; open in https://colab.research.google.com to view."
      ]
     },
     "metadata": {},
     "output_type": "display_data"
    }
   ],
   "source": [
    "for i in range(5):\n",
    "    idx = np.random.randint(0, len(ds_train.names)+1)\n",
    "    _imgpath = os.path.join('/content/VOCdevkit_2007/VOC2007/', 'JPEGImages', ds_train.names[idx]+'.jpg')\n",
    "    img = Image.open(_imgpath).convert('RGB')\n",
    "    draw = ImageDraw.Draw(img)\n",
    "    for j in range(len(ds_train.box_indices[idx])):\n",
    "        obj = ds_train.box_indices[idx][j]\n",
    "        draw.rectangle(list(obj), outline=(255,0,0))\n",
    "        draw.text(list(obj[0:2]), ds_train.classes[ds_train.label_order[idx][j]], fill=(0,255,0))\n",
    "    plt.figure(figsize = (10,10))\n",
    "    plt.imshow(np.array(img))\n"
   ]
  },
  {
   "cell_type": "code",
   "execution_count": 36,
   "metadata": {
    "colab": {
     "base_uri": "https://localhost:8080/",
     "height": 34
    },
    "executionInfo": {
     "elapsed": 1115,
     "status": "ok",
     "timestamp": 1602908031843,
     "user": {
      "displayName": "Yutong Xie",
      "photoUrl": "https://lh3.googleusercontent.com/a-/AOh14GhXdeoCfgkQhGM6Y9yxqYJammXB7UaVouj7KqsW=s64",
      "userId": "16538548856605091169"
     },
     "user_tz": 300
    },
    "id": "xiYASwg5wytU",
    "outputId": "e1663057-0346-4cb2-fe88-c6aeef9d5ffd"
   },
   "outputs": [
    {
     "name": "stdout",
     "output_type": "stream",
     "text": [
      "(335, 500, 3)\n"
     ]
    }
   ],
   "source": [
    "print(np.array(img).shape)"
   ]
  },
  {
   "cell_type": "markdown",
   "metadata": {
    "id": "N5koJUY6qVO8"
   },
   "source": [
    "# Classification"
   ]
  },
  {
   "cell_type": "code",
   "execution_count": 12,
   "metadata": {
    "executionInfo": {
     "elapsed": 77858,
     "status": "ok",
     "timestamp": 1602900190424,
     "user": {
      "displayName": "Yutong Xie",
      "photoUrl": "https://lh3.googleusercontent.com/a-/AOh14GhXdeoCfgkQhGM6Y9yxqYJammXB7UaVouj7KqsW=s64",
      "userId": "16538548856605091169"
     },
     "user_tz": 300
    },
    "id": "YHUp1AxFqVO9"
   },
   "outputs": [],
   "source": [
    "# declare what device to use: gpu/cpu\n",
    "device = torch.device(\"cuda:0\" if torch.cuda.is_available() else \"cpu\")"
   ]
  },
  {
   "cell_type": "code",
   "execution_count": 13,
   "metadata": {
    "executionInfo": {
     "elapsed": 77848,
     "status": "ok",
     "timestamp": 1602900190425,
     "user": {
      "displayName": "Yutong Xie",
      "photoUrl": "https://lh3.googleusercontent.com/a-/AOh14GhXdeoCfgkQhGM6Y9yxqYJammXB7UaVouj7KqsW=s64",
      "userId": "16538548856605091169"
     },
     "user_tz": 300
    },
    "id": "foI-OS4PqVPA"
   },
   "outputs": [],
   "source": [
    "train_loader = torch.utils.data.DataLoader(dataset=ds_train,\n",
    "                                               batch_size=50, \n",
    "                                               shuffle=True,\n",
    "                                               num_workers=1)"
   ]
  },
  {
   "cell_type": "code",
   "execution_count": 14,
   "metadata": {
    "executionInfo": {
     "elapsed": 77827,
     "status": "ok",
     "timestamp": 1602900190425,
     "user": {
      "displayName": "Yutong Xie",
      "photoUrl": "https://lh3.googleusercontent.com/a-/AOh14GhXdeoCfgkQhGM6Y9yxqYJammXB7UaVouj7KqsW=s64",
      "userId": "16538548856605091169"
     },
     "user_tz": 300
    },
    "id": "KjXBP5s6qVPD"
   },
   "outputs": [],
   "source": [
    "val_loader = torch.utils.data.DataLoader(dataset=ds_val,\n",
    "                                               batch_size=50, \n",
    "                                               shuffle=True,\n",
    "                                               num_workers=1)"
   ]
  },
  {
   "cell_type": "code",
   "execution_count": 37,
   "metadata": {
    "executionInfo": {
     "elapsed": 1090,
     "status": "ok",
     "timestamp": 1602911105122,
     "user": {
      "displayName": "Yutong Xie",
      "photoUrl": "https://lh3.googleusercontent.com/a-/AOh14GhXdeoCfgkQhGM6Y9yxqYJammXB7UaVouj7KqsW=s64",
      "userId": "16538548856605091169"
     },
     "user_tz": 300
    },
    "id": "5C-PrDxpqVPF"
   },
   "outputs": [],
   "source": [
    "def train_classifier(train_loader, classifier, criterion, optimizer):\n",
    "    classifier.train()\n",
    "    loss_ = 0.0\n",
    "    losses = []\n",
    "    for i, (images, labels, _) in enumerate(train_loader):\n",
    "        images, labels = images.to(device), labels.to(device)\n",
    "        # print(images.shape)\n",
    "        optimizer.zero_grad()\n",
    "        logits = classifier(images)\n",
    "        loss = criterion(logits, labels)\n",
    "        loss.backward()\n",
    "        optimizer.step()\n",
    "        losses.append(loss)\n",
    "    return torch.stack(losses).mean().item()"
   ]
  },
  {
   "cell_type": "code",
   "execution_count": 16,
   "metadata": {
    "executionInfo": {
     "elapsed": 77757,
     "status": "ok",
     "timestamp": 1602900190426,
     "user": {
      "displayName": "Yutong Xie",
      "photoUrl": "https://lh3.googleusercontent.com/a-/AOh14GhXdeoCfgkQhGM6Y9yxqYJammXB7UaVouj7KqsW=s64",
      "userId": "16538548856605091169"
     },
     "user_tz": 300
    },
    "id": "m7z03dtOqVPH"
   },
   "outputs": [],
   "source": [
    "def test_classifier(test_loader, classifier, criterion, print_ind_classes=True, print_total=True):\n",
    "    classifier.eval()\n",
    "    losses = []\n",
    "    with torch.no_grad():\n",
    "        y_true = np.zeros((0,21))\n",
    "        y_score = np.zeros((0,21))\n",
    "        for i, (images, labels, _) in enumerate(test_loader):\n",
    "            images, labels = images.to(device), labels.to(device)\n",
    "            logits = classifier(images)\n",
    "            y_true = np.concatenate((y_true, labels.cpu().numpy()), axis=0)\n",
    "            y_score = np.concatenate((y_score, logits.cpu().numpy()), axis=0)\n",
    "            loss = criterion(logits, labels)\n",
    "            losses.append(loss.item())\n",
    "        aps = []\n",
    "        # ignore first class which is background\n",
    "        for i in range(1, y_true.shape[1]):\n",
    "            ap = average_precision_score(y_true[:, i], y_score[:, i])\n",
    "            if print_ind_classes:\n",
    "                print('-------  Class: {:<12}     AP: {:>8.4f}  -------'.format(VOC_CLASSES[i], ap))\n",
    "            aps.append(ap)\n",
    "        \n",
    "        mAP = np.mean(aps)\n",
    "        test_loss = np.mean(losses)\n",
    "        if print_total:\n",
    "            print('mAP: {0:.4f}'.format(mAP))\n",
    "            print('Avg loss: {}'.format(test_loss))\n",
    "        \n",
    "    return mAP, test_loss, aps"
   ]
  },
  {
   "cell_type": "code",
   "execution_count": 17,
   "metadata": {
    "executionInfo": {
     "elapsed": 77751,
     "status": "ok",
     "timestamp": 1602900190427,
     "user": {
      "displayName": "Yutong Xie",
      "photoUrl": "https://lh3.googleusercontent.com/a-/AOh14GhXdeoCfgkQhGM6Y9yxqYJammXB7UaVouj7KqsW=s64",
      "userId": "16538548856605091169"
     },
     "user_tz": 300
    },
    "id": "t1fLL4SmqVPJ"
   },
   "outputs": [],
   "source": [
    "# plot functions\n",
    "def plot_losses(train, val, test_frequency, num_epochs):\n",
    "    plt.plot(train, label=\"train\")\n",
    "    indices = [i for i in range(num_epochs) if ((i+1)%test_frequency == 0 or i ==0)]\n",
    "    plt.plot(indices, val, label=\"val\")\n",
    "    plt.title(\"Loss Plot\")\n",
    "    plt.ylabel(\"Loss\")\n",
    "    plt.xlabel(\"Epoch\")\n",
    "    plt.legend()\n",
    "    plt.show()\n",
    "    \n",
    "def plot_mAP(train, val, test_frequency, num_epochs):\n",
    "    indices = [i for i in range(num_epochs) if ((i+1)%test_frequency == 0 or i ==0)]\n",
    "    plt.plot(indices, train, label=\"train\")\n",
    "    plt.plot(indices, val, label=\"val\")\n",
    "    plt.title(\"mAP Plot\")\n",
    "    plt.ylabel(\"mAP\")\n",
    "    plt.xlabel(\"Epoch\")\n",
    "    plt.legend()\n",
    "    plt.show()\n",
    "    "
   ]
  },
  {
   "cell_type": "markdown",
   "metadata": {
    "id": "fp5BjL0bqVPL"
   },
   "source": [
    "## Training the network \n",
    "\n",
    "The simple network you are given as is will allow you to reach around 0.15-0.2 mAP. In this project, you will find ways to design a better network. Save plots and final test mAP scores as you will be adding these to the writeup."
   ]
  },
  {
   "cell_type": "code",
   "execution_count": 38,
   "metadata": {
    "executionInfo": {
     "elapsed": 1094,
     "status": "ok",
     "timestamp": 1602911112522,
     "user": {
      "displayName": "Yutong Xie",
      "photoUrl": "https://lh3.googleusercontent.com/a-/AOh14GhXdeoCfgkQhGM6Y9yxqYJammXB7UaVouj7KqsW=s64",
      "userId": "16538548856605091169"
     },
     "user_tz": 300
    },
    "id": "PbxoZTzeqVPM"
   },
   "outputs": [],
   "source": [
    "def train(classifier, num_epochs, train_loader, val_loader, criterion, optimizer, test_frequency=5):\n",
    "    train_losses = []\n",
    "    train_mAPs = []\n",
    "    val_losses = []\n",
    "    val_mAPs = []\n",
    "\n",
    "    for epoch in range(1,num_epochs+1):\n",
    "        print(\"Starting epoch number \" + str(epoch))\n",
    "        train_loss = train_classifier(train_loader, classifier, criterion, optimizer)\n",
    "        train_losses.append(train_loss)\n",
    "        print(\"Loss for Training on Epoch \" +str(epoch) + \" is \"+ str(train_loss))\n",
    "        if(epoch%test_frequency==0 or epoch==1):\n",
    "            mAP_train, _, _ = test_classifier(train_loader, classifier, criterion, False, False)\n",
    "            train_mAPs.append(mAP_train)\n",
    "            mAP_val, val_loss, _ = test_classifier(val_loader, classifier, criterion)\n",
    "            print('Evaluating classifier')\n",
    "            print(\"Mean Precision Score for Testing on Epoch \" +str(epoch) + \" is \"+ str(mAP_val))\n",
    "            val_losses.append(val_loss)\n",
    "            val_mAPs.append(mAP_val)\n",
    "    \n",
    "    return classifier, train_losses, val_losses, train_mAPs, val_mAPs"
   ]
  },
  {
   "cell_type": "code",
   "execution_count": 19,
   "metadata": {
    "executionInfo": {
     "elapsed": 77996,
     "status": "ok",
     "timestamp": 1602900190694,
     "user": {
      "displayName": "Yutong Xie",
      "photoUrl": "https://lh3.googleusercontent.com/a-/AOh14GhXdeoCfgkQhGM6Y9yxqYJammXB7UaVouj7KqsW=s64",
      "userId": "16538548856605091169"
     },
     "user_tz": 300
    },
    "id": "awidt6RkqVPP"
   },
   "outputs": [],
   "source": [
    "classifier = SimpleClassifier().to(device)\n",
    "# You can can use this function to reload a network you have already saved previously\n",
    "#classifier.load_state_dict(torch.load('voc_classifier.pth'))"
   ]
  },
  {
   "cell_type": "code",
   "execution_count": 20,
   "metadata": {
    "executionInfo": {
     "elapsed": 77989,
     "status": "ok",
     "timestamp": 1602900190694,
     "user": {
      "displayName": "Yutong Xie",
      "photoUrl": "https://lh3.googleusercontent.com/a-/AOh14GhXdeoCfgkQhGM6Y9yxqYJammXB7UaVouj7KqsW=s64",
      "userId": "16538548856605091169"
     },
     "user_tz": 300
    },
    "id": "LjzLsgk4qVPS"
   },
   "outputs": [],
   "source": [
    "criterion = nn.MultiLabelSoftMarginLoss()\n",
    "optimizer = torch.optim.SGD(classifier.parameters(), lr=0.01, momentum=0.9)"
   ]
  },
  {
   "cell_type": "code",
   "execution_count": 39,
   "metadata": {
    "colab": {
     "base_uri": "https://localhost:8080/",
     "height": 443
    },
    "executionInfo": {
     "elapsed": 4281,
     "status": "error",
     "timestamp": 1602911128493,
     "user": {
      "displayName": "Yutong Xie",
      "photoUrl": "https://lh3.googleusercontent.com/a-/AOh14GhXdeoCfgkQhGM6Y9yxqYJammXB7UaVouj7KqsW=s64",
      "userId": "16538548856605091169"
     },
     "user_tz": 300
    },
    "id": "88vFeMDTqVPU",
    "outputId": "9ac30eae-e49e-428d-89bd-945c0a0f46ca",
    "scrolled": true
   },
   "outputs": [
    {
     "name": "stdout",
     "output_type": "stream",
     "text": [
      "Starting epoch number 1\n",
      "torch.Size([50, 3, 227, 227])\n",
      "torch.Size([50, 3, 227, 227])\n",
      "torch.Size([50, 3, 227, 227])\n",
      "torch.Size([50, 3, 227, 227])\n",
      "torch.Size([50, 3, 227, 227])\n"
     ]
    },
    {
     "ename": "KeyboardInterrupt",
     "evalue": "ignored",
     "output_type": "error",
     "traceback": [
      "\u001b[0;31m---------------------------------------------------------------------------\u001b[0m",
      "\u001b[0;31mKeyboardInterrupt\u001b[0m                         Traceback (most recent call last)",
      "\u001b[0;32m<ipython-input-39-ba428c7e39ec>\u001b[0m in \u001b[0;36m<module>\u001b[0;34m()\u001b[0m\n\u001b[1;32m      2\u001b[0m \u001b[0mnum_epochs\u001b[0m \u001b[0;34m=\u001b[0m \u001b[0;36m20\u001b[0m\u001b[0;34m\u001b[0m\u001b[0;34m\u001b[0m\u001b[0m\n\u001b[1;32m      3\u001b[0m \u001b[0mtest_frequency\u001b[0m \u001b[0;34m=\u001b[0m \u001b[0;36m5\u001b[0m\u001b[0;34m\u001b[0m\u001b[0;34m\u001b[0m\u001b[0m\n\u001b[0;32m----> 4\u001b[0;31m \u001b[0mclassifier\u001b[0m\u001b[0;34m,\u001b[0m \u001b[0mtrain_losses\u001b[0m\u001b[0;34m,\u001b[0m \u001b[0mval_losses\u001b[0m\u001b[0;34m,\u001b[0m \u001b[0mtrain_mAPs\u001b[0m\u001b[0;34m,\u001b[0m \u001b[0mval_mAPs\u001b[0m \u001b[0;34m=\u001b[0m \u001b[0mtrain\u001b[0m\u001b[0;34m(\u001b[0m\u001b[0mclassifier\u001b[0m\u001b[0;34m,\u001b[0m \u001b[0mnum_epochs\u001b[0m\u001b[0;34m,\u001b[0m \u001b[0mtrain_loader\u001b[0m\u001b[0;34m,\u001b[0m \u001b[0mval_loader\u001b[0m\u001b[0;34m,\u001b[0m \u001b[0mcriterion\u001b[0m\u001b[0;34m,\u001b[0m \u001b[0moptimizer\u001b[0m\u001b[0;34m,\u001b[0m \u001b[0mtest_frequency\u001b[0m\u001b[0;34m)\u001b[0m\u001b[0;34m\u001b[0m\u001b[0;34m\u001b[0m\u001b[0m\n\u001b[0m",
      "\u001b[0;32m<ipython-input-38-cfae9759689b>\u001b[0m in \u001b[0;36mtrain\u001b[0;34m(classifier, num_epochs, train_loader, val_loader, criterion, optimizer, test_frequency)\u001b[0m\n\u001b[1;32m      7\u001b[0m     \u001b[0;32mfor\u001b[0m \u001b[0mepoch\u001b[0m \u001b[0;32min\u001b[0m \u001b[0mrange\u001b[0m\u001b[0;34m(\u001b[0m\u001b[0;36m1\u001b[0m\u001b[0;34m,\u001b[0m\u001b[0mnum_epochs\u001b[0m\u001b[0;34m+\u001b[0m\u001b[0;36m1\u001b[0m\u001b[0;34m)\u001b[0m\u001b[0;34m:\u001b[0m\u001b[0;34m\u001b[0m\u001b[0;34m\u001b[0m\u001b[0m\n\u001b[1;32m      8\u001b[0m         \u001b[0mprint\u001b[0m\u001b[0;34m(\u001b[0m\u001b[0;34m\"Starting epoch number \"\u001b[0m \u001b[0;34m+\u001b[0m \u001b[0mstr\u001b[0m\u001b[0;34m(\u001b[0m\u001b[0mepoch\u001b[0m\u001b[0;34m)\u001b[0m\u001b[0;34m)\u001b[0m\u001b[0;34m\u001b[0m\u001b[0;34m\u001b[0m\u001b[0m\n\u001b[0;32m----> 9\u001b[0;31m         \u001b[0mtrain_loss\u001b[0m \u001b[0;34m=\u001b[0m \u001b[0mtrain_classifier\u001b[0m\u001b[0;34m(\u001b[0m\u001b[0mtrain_loader\u001b[0m\u001b[0;34m,\u001b[0m \u001b[0mclassifier\u001b[0m\u001b[0;34m,\u001b[0m \u001b[0mcriterion\u001b[0m\u001b[0;34m,\u001b[0m \u001b[0moptimizer\u001b[0m\u001b[0;34m)\u001b[0m\u001b[0;34m\u001b[0m\u001b[0;34m\u001b[0m\u001b[0m\n\u001b[0m\u001b[1;32m     10\u001b[0m         \u001b[0mtrain_losses\u001b[0m\u001b[0;34m.\u001b[0m\u001b[0mappend\u001b[0m\u001b[0;34m(\u001b[0m\u001b[0mtrain_loss\u001b[0m\u001b[0;34m)\u001b[0m\u001b[0;34m\u001b[0m\u001b[0;34m\u001b[0m\u001b[0m\n\u001b[1;32m     11\u001b[0m         \u001b[0mprint\u001b[0m\u001b[0;34m(\u001b[0m\u001b[0;34m\"Loss for Training on Epoch \"\u001b[0m \u001b[0;34m+\u001b[0m\u001b[0mstr\u001b[0m\u001b[0;34m(\u001b[0m\u001b[0mepoch\u001b[0m\u001b[0;34m)\u001b[0m \u001b[0;34m+\u001b[0m \u001b[0;34m\" is \"\u001b[0m\u001b[0;34m+\u001b[0m \u001b[0mstr\u001b[0m\u001b[0;34m(\u001b[0m\u001b[0mtrain_loss\u001b[0m\u001b[0;34m)\u001b[0m\u001b[0;34m)\u001b[0m\u001b[0;34m\u001b[0m\u001b[0;34m\u001b[0m\u001b[0m\n",
      "\u001b[0;32m<ipython-input-37-f815b410a042>\u001b[0m in \u001b[0;36mtrain_classifier\u001b[0;34m(train_loader, classifier, criterion, optimizer)\u001b[0m\n\u001b[1;32m      3\u001b[0m     \u001b[0mloss_\u001b[0m \u001b[0;34m=\u001b[0m \u001b[0;36m0.0\u001b[0m\u001b[0;34m\u001b[0m\u001b[0;34m\u001b[0m\u001b[0m\n\u001b[1;32m      4\u001b[0m     \u001b[0mlosses\u001b[0m \u001b[0;34m=\u001b[0m \u001b[0;34m[\u001b[0m\u001b[0;34m]\u001b[0m\u001b[0;34m\u001b[0m\u001b[0;34m\u001b[0m\u001b[0m\n\u001b[0;32m----> 5\u001b[0;31m     \u001b[0;32mfor\u001b[0m \u001b[0mi\u001b[0m\u001b[0;34m,\u001b[0m \u001b[0;34m(\u001b[0m\u001b[0mimages\u001b[0m\u001b[0;34m,\u001b[0m \u001b[0mlabels\u001b[0m\u001b[0;34m,\u001b[0m \u001b[0m_\u001b[0m\u001b[0;34m)\u001b[0m \u001b[0;32min\u001b[0m \u001b[0menumerate\u001b[0m\u001b[0;34m(\u001b[0m\u001b[0mtrain_loader\u001b[0m\u001b[0;34m)\u001b[0m\u001b[0;34m:\u001b[0m\u001b[0;34m\u001b[0m\u001b[0;34m\u001b[0m\u001b[0m\n\u001b[0m\u001b[1;32m      6\u001b[0m         \u001b[0mimages\u001b[0m\u001b[0;34m,\u001b[0m \u001b[0mlabels\u001b[0m \u001b[0;34m=\u001b[0m \u001b[0mimages\u001b[0m\u001b[0;34m.\u001b[0m\u001b[0mto\u001b[0m\u001b[0;34m(\u001b[0m\u001b[0mdevice\u001b[0m\u001b[0;34m)\u001b[0m\u001b[0;34m,\u001b[0m \u001b[0mlabels\u001b[0m\u001b[0;34m.\u001b[0m\u001b[0mto\u001b[0m\u001b[0;34m(\u001b[0m\u001b[0mdevice\u001b[0m\u001b[0;34m)\u001b[0m\u001b[0;34m\u001b[0m\u001b[0;34m\u001b[0m\u001b[0m\n\u001b[1;32m      7\u001b[0m         \u001b[0mprint\u001b[0m\u001b[0;34m(\u001b[0m\u001b[0mimages\u001b[0m\u001b[0;34m.\u001b[0m\u001b[0mshape\u001b[0m\u001b[0;34m)\u001b[0m\u001b[0;34m\u001b[0m\u001b[0;34m\u001b[0m\u001b[0m\n",
      "\u001b[0;32m/usr/local/lib/python3.6/dist-packages/torch/utils/data/dataloader.py\u001b[0m in \u001b[0;36m__next__\u001b[0;34m(self)\u001b[0m\n\u001b[1;32m    343\u001b[0m \u001b[0;34m\u001b[0m\u001b[0m\n\u001b[1;32m    344\u001b[0m     \u001b[0;32mdef\u001b[0m \u001b[0m__next__\u001b[0m\u001b[0;34m(\u001b[0m\u001b[0mself\u001b[0m\u001b[0;34m)\u001b[0m\u001b[0;34m:\u001b[0m\u001b[0;34m\u001b[0m\u001b[0;34m\u001b[0m\u001b[0m\n\u001b[0;32m--> 345\u001b[0;31m         \u001b[0mdata\u001b[0m \u001b[0;34m=\u001b[0m \u001b[0mself\u001b[0m\u001b[0;34m.\u001b[0m\u001b[0m_next_data\u001b[0m\u001b[0;34m(\u001b[0m\u001b[0;34m)\u001b[0m\u001b[0;34m\u001b[0m\u001b[0;34m\u001b[0m\u001b[0m\n\u001b[0m\u001b[1;32m    346\u001b[0m         \u001b[0mself\u001b[0m\u001b[0;34m.\u001b[0m\u001b[0m_num_yielded\u001b[0m \u001b[0;34m+=\u001b[0m \u001b[0;36m1\u001b[0m\u001b[0;34m\u001b[0m\u001b[0;34m\u001b[0m\u001b[0m\n\u001b[1;32m    347\u001b[0m         \u001b[0;32mif\u001b[0m \u001b[0mself\u001b[0m\u001b[0;34m.\u001b[0m\u001b[0m_dataset_kind\u001b[0m \u001b[0;34m==\u001b[0m \u001b[0m_DatasetKind\u001b[0m\u001b[0;34m.\u001b[0m\u001b[0mIterable\u001b[0m \u001b[0;32mand\u001b[0m\u001b[0;31m \u001b[0m\u001b[0;31m\\\u001b[0m\u001b[0;34m\u001b[0m\u001b[0;34m\u001b[0m\u001b[0m\n",
      "\u001b[0;32m/usr/local/lib/python3.6/dist-packages/torch/utils/data/dataloader.py\u001b[0m in \u001b[0;36m_next_data\u001b[0;34m(self)\u001b[0m\n\u001b[1;32m    839\u001b[0m \u001b[0;34m\u001b[0m\u001b[0m\n\u001b[1;32m    840\u001b[0m             \u001b[0;32massert\u001b[0m \u001b[0;32mnot\u001b[0m \u001b[0mself\u001b[0m\u001b[0;34m.\u001b[0m\u001b[0m_shutdown\u001b[0m \u001b[0;32mand\u001b[0m \u001b[0mself\u001b[0m\u001b[0;34m.\u001b[0m\u001b[0m_tasks_outstanding\u001b[0m \u001b[0;34m>\u001b[0m \u001b[0;36m0\u001b[0m\u001b[0;34m\u001b[0m\u001b[0;34m\u001b[0m\u001b[0m\n\u001b[0;32m--> 841\u001b[0;31m             \u001b[0midx\u001b[0m\u001b[0;34m,\u001b[0m \u001b[0mdata\u001b[0m \u001b[0;34m=\u001b[0m \u001b[0mself\u001b[0m\u001b[0;34m.\u001b[0m\u001b[0m_get_data\u001b[0m\u001b[0;34m(\u001b[0m\u001b[0;34m)\u001b[0m\u001b[0;34m\u001b[0m\u001b[0;34m\u001b[0m\u001b[0m\n\u001b[0m\u001b[1;32m    842\u001b[0m             \u001b[0mself\u001b[0m\u001b[0;34m.\u001b[0m\u001b[0m_tasks_outstanding\u001b[0m \u001b[0;34m-=\u001b[0m \u001b[0;36m1\u001b[0m\u001b[0;34m\u001b[0m\u001b[0;34m\u001b[0m\u001b[0m\n\u001b[1;32m    843\u001b[0m \u001b[0;34m\u001b[0m\u001b[0m\n",
      "\u001b[0;32m/usr/local/lib/python3.6/dist-packages/torch/utils/data/dataloader.py\u001b[0m in \u001b[0;36m_get_data\u001b[0;34m(self)\u001b[0m\n\u001b[1;32m    806\u001b[0m         \u001b[0;32melse\u001b[0m\u001b[0;34m:\u001b[0m\u001b[0;34m\u001b[0m\u001b[0;34m\u001b[0m\u001b[0m\n\u001b[1;32m    807\u001b[0m             \u001b[0;32mwhile\u001b[0m \u001b[0;32mTrue\u001b[0m\u001b[0;34m:\u001b[0m\u001b[0;34m\u001b[0m\u001b[0;34m\u001b[0m\u001b[0m\n\u001b[0;32m--> 808\u001b[0;31m                 \u001b[0msuccess\u001b[0m\u001b[0;34m,\u001b[0m \u001b[0mdata\u001b[0m \u001b[0;34m=\u001b[0m \u001b[0mself\u001b[0m\u001b[0;34m.\u001b[0m\u001b[0m_try_get_data\u001b[0m\u001b[0;34m(\u001b[0m\u001b[0;34m)\u001b[0m\u001b[0;34m\u001b[0m\u001b[0;34m\u001b[0m\u001b[0m\n\u001b[0m\u001b[1;32m    809\u001b[0m                 \u001b[0;32mif\u001b[0m \u001b[0msuccess\u001b[0m\u001b[0;34m:\u001b[0m\u001b[0;34m\u001b[0m\u001b[0;34m\u001b[0m\u001b[0m\n\u001b[1;32m    810\u001b[0m                     \u001b[0;32mreturn\u001b[0m \u001b[0mdata\u001b[0m\u001b[0;34m\u001b[0m\u001b[0;34m\u001b[0m\u001b[0m\n",
      "\u001b[0;32m/usr/local/lib/python3.6/dist-packages/torch/utils/data/dataloader.py\u001b[0m in \u001b[0;36m_try_get_data\u001b[0;34m(self, timeout)\u001b[0m\n\u001b[1;32m    759\u001b[0m         \u001b[0;31m#   (bool: whether successfully get data, any: data if successful else None)\u001b[0m\u001b[0;34m\u001b[0m\u001b[0;34m\u001b[0m\u001b[0;34m\u001b[0m\u001b[0m\n\u001b[1;32m    760\u001b[0m         \u001b[0;32mtry\u001b[0m\u001b[0;34m:\u001b[0m\u001b[0;34m\u001b[0m\u001b[0;34m\u001b[0m\u001b[0m\n\u001b[0;32m--> 761\u001b[0;31m             \u001b[0mdata\u001b[0m \u001b[0;34m=\u001b[0m \u001b[0mself\u001b[0m\u001b[0;34m.\u001b[0m\u001b[0m_data_queue\u001b[0m\u001b[0;34m.\u001b[0m\u001b[0mget\u001b[0m\u001b[0;34m(\u001b[0m\u001b[0mtimeout\u001b[0m\u001b[0;34m=\u001b[0m\u001b[0mtimeout\u001b[0m\u001b[0;34m)\u001b[0m\u001b[0;34m\u001b[0m\u001b[0;34m\u001b[0m\u001b[0m\n\u001b[0m\u001b[1;32m    762\u001b[0m             \u001b[0;32mreturn\u001b[0m \u001b[0;34m(\u001b[0m\u001b[0;32mTrue\u001b[0m\u001b[0;34m,\u001b[0m \u001b[0mdata\u001b[0m\u001b[0;34m)\u001b[0m\u001b[0;34m\u001b[0m\u001b[0;34m\u001b[0m\u001b[0m\n\u001b[1;32m    763\u001b[0m         \u001b[0;32mexcept\u001b[0m \u001b[0mException\u001b[0m \u001b[0;32mas\u001b[0m \u001b[0me\u001b[0m\u001b[0;34m:\u001b[0m\u001b[0;34m\u001b[0m\u001b[0;34m\u001b[0m\u001b[0m\n",
      "\u001b[0;32m/usr/lib/python3.6/multiprocessing/queues.py\u001b[0m in \u001b[0;36mget\u001b[0;34m(self, block, timeout)\u001b[0m\n\u001b[1;32m    102\u001b[0m                 \u001b[0;32mif\u001b[0m \u001b[0mblock\u001b[0m\u001b[0;34m:\u001b[0m\u001b[0;34m\u001b[0m\u001b[0;34m\u001b[0m\u001b[0m\n\u001b[1;32m    103\u001b[0m                     \u001b[0mtimeout\u001b[0m \u001b[0;34m=\u001b[0m \u001b[0mdeadline\u001b[0m \u001b[0;34m-\u001b[0m \u001b[0mtime\u001b[0m\u001b[0;34m.\u001b[0m\u001b[0mmonotonic\u001b[0m\u001b[0;34m(\u001b[0m\u001b[0;34m)\u001b[0m\u001b[0;34m\u001b[0m\u001b[0;34m\u001b[0m\u001b[0m\n\u001b[0;32m--> 104\u001b[0;31m                     \u001b[0;32mif\u001b[0m \u001b[0;32mnot\u001b[0m \u001b[0mself\u001b[0m\u001b[0;34m.\u001b[0m\u001b[0m_poll\u001b[0m\u001b[0;34m(\u001b[0m\u001b[0mtimeout\u001b[0m\u001b[0;34m)\u001b[0m\u001b[0;34m:\u001b[0m\u001b[0;34m\u001b[0m\u001b[0;34m\u001b[0m\u001b[0m\n\u001b[0m\u001b[1;32m    105\u001b[0m                         \u001b[0;32mraise\u001b[0m \u001b[0mEmpty\u001b[0m\u001b[0;34m\u001b[0m\u001b[0;34m\u001b[0m\u001b[0m\n\u001b[1;32m    106\u001b[0m                 \u001b[0;32melif\u001b[0m \u001b[0;32mnot\u001b[0m \u001b[0mself\u001b[0m\u001b[0;34m.\u001b[0m\u001b[0m_poll\u001b[0m\u001b[0;34m(\u001b[0m\u001b[0;34m)\u001b[0m\u001b[0;34m:\u001b[0m\u001b[0;34m\u001b[0m\u001b[0;34m\u001b[0m\u001b[0m\n",
      "\u001b[0;32m/usr/lib/python3.6/multiprocessing/connection.py\u001b[0m in \u001b[0;36mpoll\u001b[0;34m(self, timeout)\u001b[0m\n\u001b[1;32m    255\u001b[0m         \u001b[0mself\u001b[0m\u001b[0;34m.\u001b[0m\u001b[0m_check_closed\u001b[0m\u001b[0;34m(\u001b[0m\u001b[0;34m)\u001b[0m\u001b[0;34m\u001b[0m\u001b[0;34m\u001b[0m\u001b[0m\n\u001b[1;32m    256\u001b[0m         \u001b[0mself\u001b[0m\u001b[0;34m.\u001b[0m\u001b[0m_check_readable\u001b[0m\u001b[0;34m(\u001b[0m\u001b[0;34m)\u001b[0m\u001b[0;34m\u001b[0m\u001b[0;34m\u001b[0m\u001b[0m\n\u001b[0;32m--> 257\u001b[0;31m         \u001b[0;32mreturn\u001b[0m \u001b[0mself\u001b[0m\u001b[0;34m.\u001b[0m\u001b[0m_poll\u001b[0m\u001b[0;34m(\u001b[0m\u001b[0mtimeout\u001b[0m\u001b[0;34m)\u001b[0m\u001b[0;34m\u001b[0m\u001b[0;34m\u001b[0m\u001b[0m\n\u001b[0m\u001b[1;32m    258\u001b[0m \u001b[0;34m\u001b[0m\u001b[0m\n\u001b[1;32m    259\u001b[0m     \u001b[0;32mdef\u001b[0m \u001b[0m__enter__\u001b[0m\u001b[0;34m(\u001b[0m\u001b[0mself\u001b[0m\u001b[0;34m)\u001b[0m\u001b[0;34m:\u001b[0m\u001b[0;34m\u001b[0m\u001b[0;34m\u001b[0m\u001b[0m\n",
      "\u001b[0;32m/usr/lib/python3.6/multiprocessing/connection.py\u001b[0m in \u001b[0;36m_poll\u001b[0;34m(self, timeout)\u001b[0m\n\u001b[1;32m    412\u001b[0m \u001b[0;34m\u001b[0m\u001b[0m\n\u001b[1;32m    413\u001b[0m     \u001b[0;32mdef\u001b[0m \u001b[0m_poll\u001b[0m\u001b[0;34m(\u001b[0m\u001b[0mself\u001b[0m\u001b[0;34m,\u001b[0m \u001b[0mtimeout\u001b[0m\u001b[0;34m)\u001b[0m\u001b[0;34m:\u001b[0m\u001b[0;34m\u001b[0m\u001b[0;34m\u001b[0m\u001b[0m\n\u001b[0;32m--> 414\u001b[0;31m         \u001b[0mr\u001b[0m \u001b[0;34m=\u001b[0m \u001b[0mwait\u001b[0m\u001b[0;34m(\u001b[0m\u001b[0;34m[\u001b[0m\u001b[0mself\u001b[0m\u001b[0;34m]\u001b[0m\u001b[0;34m,\u001b[0m \u001b[0mtimeout\u001b[0m\u001b[0;34m)\u001b[0m\u001b[0;34m\u001b[0m\u001b[0;34m\u001b[0m\u001b[0m\n\u001b[0m\u001b[1;32m    415\u001b[0m         \u001b[0;32mreturn\u001b[0m \u001b[0mbool\u001b[0m\u001b[0;34m(\u001b[0m\u001b[0mr\u001b[0m\u001b[0;34m)\u001b[0m\u001b[0;34m\u001b[0m\u001b[0;34m\u001b[0m\u001b[0m\n\u001b[1;32m    416\u001b[0m \u001b[0;34m\u001b[0m\u001b[0m\n",
      "\u001b[0;32m/usr/lib/python3.6/multiprocessing/connection.py\u001b[0m in \u001b[0;36mwait\u001b[0;34m(object_list, timeout)\u001b[0m\n\u001b[1;32m    909\u001b[0m \u001b[0;34m\u001b[0m\u001b[0m\n\u001b[1;32m    910\u001b[0m             \u001b[0;32mwhile\u001b[0m \u001b[0;32mTrue\u001b[0m\u001b[0;34m:\u001b[0m\u001b[0;34m\u001b[0m\u001b[0;34m\u001b[0m\u001b[0m\n\u001b[0;32m--> 911\u001b[0;31m                 \u001b[0mready\u001b[0m \u001b[0;34m=\u001b[0m \u001b[0mselector\u001b[0m\u001b[0;34m.\u001b[0m\u001b[0mselect\u001b[0m\u001b[0;34m(\u001b[0m\u001b[0mtimeout\u001b[0m\u001b[0;34m)\u001b[0m\u001b[0;34m\u001b[0m\u001b[0;34m\u001b[0m\u001b[0m\n\u001b[0m\u001b[1;32m    912\u001b[0m                 \u001b[0;32mif\u001b[0m \u001b[0mready\u001b[0m\u001b[0;34m:\u001b[0m\u001b[0;34m\u001b[0m\u001b[0;34m\u001b[0m\u001b[0m\n\u001b[1;32m    913\u001b[0m                     \u001b[0;32mreturn\u001b[0m \u001b[0;34m[\u001b[0m\u001b[0mkey\u001b[0m\u001b[0;34m.\u001b[0m\u001b[0mfileobj\u001b[0m \u001b[0;32mfor\u001b[0m \u001b[0;34m(\u001b[0m\u001b[0mkey\u001b[0m\u001b[0;34m,\u001b[0m \u001b[0mevents\u001b[0m\u001b[0;34m)\u001b[0m \u001b[0;32min\u001b[0m \u001b[0mready\u001b[0m\u001b[0;34m]\u001b[0m\u001b[0;34m\u001b[0m\u001b[0;34m\u001b[0m\u001b[0m\n",
      "\u001b[0;32m/usr/lib/python3.6/selectors.py\u001b[0m in \u001b[0;36mselect\u001b[0;34m(self, timeout)\u001b[0m\n\u001b[1;32m    374\u001b[0m             \u001b[0mready\u001b[0m \u001b[0;34m=\u001b[0m \u001b[0;34m[\u001b[0m\u001b[0;34m]\u001b[0m\u001b[0;34m\u001b[0m\u001b[0;34m\u001b[0m\u001b[0m\n\u001b[1;32m    375\u001b[0m             \u001b[0;32mtry\u001b[0m\u001b[0;34m:\u001b[0m\u001b[0;34m\u001b[0m\u001b[0;34m\u001b[0m\u001b[0m\n\u001b[0;32m--> 376\u001b[0;31m                 \u001b[0mfd_event_list\u001b[0m \u001b[0;34m=\u001b[0m \u001b[0mself\u001b[0m\u001b[0;34m.\u001b[0m\u001b[0m_poll\u001b[0m\u001b[0;34m.\u001b[0m\u001b[0mpoll\u001b[0m\u001b[0;34m(\u001b[0m\u001b[0mtimeout\u001b[0m\u001b[0;34m)\u001b[0m\u001b[0;34m\u001b[0m\u001b[0;34m\u001b[0m\u001b[0m\n\u001b[0m\u001b[1;32m    377\u001b[0m             \u001b[0;32mexcept\u001b[0m \u001b[0mInterruptedError\u001b[0m\u001b[0;34m:\u001b[0m\u001b[0;34m\u001b[0m\u001b[0;34m\u001b[0m\u001b[0m\n\u001b[1;32m    378\u001b[0m                 \u001b[0;32mreturn\u001b[0m \u001b[0mready\u001b[0m\u001b[0;34m\u001b[0m\u001b[0;34m\u001b[0m\u001b[0m\n",
      "\u001b[0;31mKeyboardInterrupt\u001b[0m: "
     ]
    }
   ],
   "source": [
    "# Training the Classifier\n",
    "num_epochs = 20\n",
    "test_frequency = 5\n",
    "classifier, train_losses, val_losses, train_mAPs, val_mAPs = train(classifier, num_epochs, train_loader, val_loader, criterion, optimizer, test_frequency)\n"
   ]
  },
  {
   "cell_type": "code",
   "execution_count": 22,
   "metadata": {
    "colab": {
     "base_uri": "https://localhost:8080/",
     "height": 573
    },
    "executionInfo": {
     "elapsed": 604023,
     "status": "ok",
     "timestamp": 1602900716749,
     "user": {
      "displayName": "Yutong Xie",
      "photoUrl": "https://lh3.googleusercontent.com/a-/AOh14GhXdeoCfgkQhGM6Y9yxqYJammXB7UaVouj7KqsW=s64",
      "userId": "16538548856605091169"
     },
     "user_tz": 300
    },
    "id": "lm6Njf9FqVPX",
    "outputId": "4bdcccad-9543-4431-dc3f-d6ddf44fc528"
   },
   "outputs": [
    {
     "data": {
      "image/png": "[encoded data removed]",
      "text/plain": [
       "<Figure size 432x288 with 1 Axes>"
      ]
     },
     "metadata": {
      "needs_background": "light",
      "tags": []
     },
     "output_type": "display_data"
    },
    {
     "data": {
      "image/png": "[encoded data removed]",
      "text/plain": [
       "<Figure size 432x288 with 1 Axes>"
      ]
     },
     "metadata": {
      "needs_background": "light",
      "tags": []
     },
     "output_type": "display_data"
    }
   ],
   "source": [
    "# Compare train and validation metrics\n",
    "plot_losses(train_losses, val_losses, test_frequency, num_epochs)\n",
    "plot_mAP(train_mAPs, val_mAPs, test_frequency, num_epochs)"
   ]
  },
  {
   "cell_type": "code",
   "execution_count": 24,
   "metadata": {
    "executionInfo": {
     "elapsed": 1233,
     "status": "ok",
     "timestamp": 1602901242094,
     "user": {
      "displayName": "Yutong Xie",
      "photoUrl": "https://lh3.googleusercontent.com/a-/AOh14GhXdeoCfgkQhGM6Y9yxqYJammXB7UaVouj7KqsW=s64",
      "userId": "16538548856605091169"
     },
     "user_tz": 300
    },
    "id": "66T4gXD1qVPa"
   },
   "outputs": [],
   "source": [
    "# Save the clssifier network\n",
    "# Suggestion: you can save checkpoints of your network during training and reload them later\n",
    "torch.save(classifier.state_dict(), './voc_simple_classifier.pth')"
   ]
  },
  {
   "cell_type": "markdown",
   "metadata": {
    "id": "s1dSEXCiqVPb"
   },
   "source": [
    "# Evaluate on test set\n",
    "\n"
   ]
  },
  {
   "cell_type": "code",
   "execution_count": 25,
   "metadata": {
    "colab": {
     "base_uri": "https://localhost:8080/",
     "height": 391
    },
    "executionInfo": {
     "elapsed": 39690,
     "status": "ok",
     "timestamp": 1602901284874,
     "user": {
      "displayName": "Yutong Xie",
      "photoUrl": "https://lh3.googleusercontent.com/a-/AOh14GhXdeoCfgkQhGM6Y9yxqYJammXB7UaVouj7KqsW=s64",
      "userId": "16538548856605091169"
     },
     "user_tz": 300
    },
    "id": "y3uyKvj_qVPc",
    "outputId": "cfcc6721-5346-416d-f578-cbc39cf0d360"
   },
   "outputs": [
    {
     "name": "stdout",
     "output_type": "stream",
     "text": [
      "-------  Class: aeroplane        AP:   0.3362  -------\n",
      "-------  Class: bicycle          AP:   0.0637  -------\n",
      "-------  Class: bird             AP:   0.1108  -------\n",
      "-------  Class: boat             AP:   0.1583  -------\n",
      "-------  Class: bottle           AP:   0.0706  -------\n",
      "-------  Class: bus              AP:   0.0623  -------\n",
      "-------  Class: car              AP:   0.2666  -------\n",
      "-------  Class: cat              AP:   0.1048  -------\n",
      "-------  Class: chair            AP:   0.2175  -------\n",
      "-------  Class: cow              AP:   0.0758  -------\n",
      "-------  Class: diningtable      AP:   0.0876  -------\n",
      "-------  Class: dog              AP:   0.1563  -------\n",
      "-------  Class: horse            AP:   0.0937  -------\n",
      "-------  Class: motorbike        AP:   0.0526  -------\n",
      "-------  Class: person           AP:   0.5240  -------\n",
      "-------  Class: pottedplant      AP:   0.0749  -------\n",
      "-------  Class: sheep            AP:   0.0987  -------\n",
      "-------  Class: sofa             AP:   0.1497  -------\n",
      "-------  Class: train            AP:   0.1636  -------\n",
      "-------  Class: tvmonitor        AP:   0.1003  -------\n",
      "mAP: 0.1484\n",
      "Avg loss: 0.21901979088783263\n"
     ]
    }
   ],
   "source": [
    "ds_test = VocDataset('/content/VOCdevkit_2007/VOC2007test/','test', test_transform)\n",
    "\n",
    "test_loader = torch.utils.data.DataLoader(dataset=ds_test,\n",
    "                                               batch_size=50, \n",
    "                                               shuffle=False,\n",
    "                                               num_workers=1)\n",
    "\n",
    "# Transforms applied to the testing data\n",
    "test_transform = transforms.Compose([\n",
    "            transforms.Resize(227),\n",
    "            transforms.CenterCrop(227),\n",
    "            transforms.ToTensor(),\n",
    "            normalize,\n",
    "        ])\n",
    "\n",
    "mAP_test, test_loss, test_aps = test_classifier(test_loader, classifier, criterion)"
   ]
  },
  {
   "cell_type": "code",
   "execution_count": 26,
   "metadata": {
    "executionInfo": {
     "elapsed": 38156,
     "status": "ok",
     "timestamp": 1602901284875,
     "user": {
      "displayName": "Yutong Xie",
      "photoUrl": "https://lh3.googleusercontent.com/a-/AOh14GhXdeoCfgkQhGM6Y9yxqYJammXB7UaVouj7KqsW=s64",
      "userId": "16538548856605091169"
     },
     "user_tz": 300
    },
    "id": "DfXuzINbqVPf"
   },
   "outputs": [],
   "source": [
    "output_submission_csv('my_solution.csv', test_aps)"
   ]
  },
  {
   "cell_type": "markdown",
   "metadata": {
    "id": "yyQi_gREqVPh"
   },
   "source": [
    "# AlexNet Baselines (From Scratch)"
   ]
  },
  {
   "cell_type": "markdown",
   "metadata": {
    "id": "QbwpnSUVqVPh"
   },
   "source": [
    "AlexNet was one of the earliest deep learning models to have success in classification. In this section we will be running classification with AlexNet as a baseline. Furthermore, we will run an ImageNet-pretrained AlexNet to observe the impact of well-trained features. Save plots and final test mAP scores as you will be adding these to the writeup."
   ]
  },
  {
   "cell_type": "markdown",
   "metadata": {
    "id": "A_OdTq6KqVPh"
   },
   "source": [
    "## Running AlexNet\n",
    "\n",
    "In this section, we train AlexNet from scratch using the same hyperparameters as our previous experiment."
   ]
  },
  {
   "cell_type": "code",
   "execution_count": 27,
   "metadata": {
    "executionInfo": {
     "elapsed": 1560,
     "status": "ok",
     "timestamp": 1602903827545,
     "user": {
      "displayName": "Yutong Xie",
      "photoUrl": "https://lh3.googleusercontent.com/a-/AOh14GhXdeoCfgkQhGM6Y9yxqYJammXB7UaVouj7KqsW=s64",
      "userId": "16538548856605091169"
     },
     "user_tz": 300
    },
    "id": "NOE63YLBqVPi",
    "scrolled": true
   },
   "outputs": [],
   "source": [
    "num_epochs = 20\n",
    "test_frequency = 5\n",
    "\n",
    "# Change classifier to AlexNet\n",
    "classifier = torchvision.models.alexnet(pretrained=False)\n",
    "classifier.classifier._modules['6'] = nn.Linear(4096, 21)   \n",
    "classifier = classifier.to(device)\n",
    "\n",
    "criterion = nn.MultiLabelSoftMarginLoss()\n",
    "\n",
    "optimizer = torch.optim.SGD(classifier.parameters(), lr=0.01, momentum=0.9)"
   ]
  },
  {
   "cell_type": "code",
   "execution_count": 28,
   "metadata": {
    "colab": {
     "base_uri": "https://localhost:8080/",
     "height": 1000
    },
    "executionInfo": {
     "elapsed": 591198,
     "status": "ok",
     "timestamp": 1602904419606,
     "user": {
      "displayName": "Yutong Xie",
      "photoUrl": "https://lh3.googleusercontent.com/a-/AOh14GhXdeoCfgkQhGM6Y9yxqYJammXB7UaVouj7KqsW=s64",
      "userId": "16538548856605091169"
     },
     "user_tz": 300
    },
    "id": "T323Ui94qVPk",
    "outputId": "ee16764f-a0c1-4a79-8077-5462a718db53"
   },
   "outputs": [
    {
     "name": "stdout",
     "output_type": "stream",
     "text": [
      "Starting epoch number 1\n",
      "Loss for Training on Epoch 1 is 0.5670133829116821\n",
      "-------  Class: aeroplane        AP:   0.1558  -------\n",
      "-------  Class: bicycle          AP:   0.0425  -------\n",
      "-------  Class: bird             AP:   0.0968  -------\n",
      "-------  Class: boat             AP:   0.1254  -------\n",
      "-------  Class: bottle           AP:   0.0362  -------\n",
      "-------  Class: bus              AP:   0.0300  -------\n",
      "-------  Class: car              AP:   0.1097  -------\n",
      "-------  Class: cat              AP:   0.0969  -------\n",
      "-------  Class: chair            AP:   0.1035  -------\n",
      "-------  Class: cow              AP:   0.0357  -------\n",
      "-------  Class: diningtable      AP:   0.0431  -------\n",
      "-------  Class: dog              AP:   0.1104  -------\n",
      "-------  Class: horse            AP:   0.0462  -------\n",
      "-------  Class: motorbike        AP:   0.0352  -------\n",
      "-------  Class: person           AP:   0.3394  -------\n",
      "-------  Class: pottedplant      AP:   0.0387  -------\n",
      "-------  Class: sheep            AP:   0.0349  -------\n",
      "-------  Class: sofa             AP:   0.0819  -------\n",
      "-------  Class: train            AP:   0.0410  -------\n",
      "-------  Class: tvmonitor        AP:   0.0479  -------\n",
      "mAP: 0.0826\n",
      "Avg loss: 0.2914140002400267\n",
      "Evaluating classifier\n",
      "Mean Precision Score for Testing on Epoch 1 is 0.08255874706219321\n",
      "Starting epoch number 2\n",
      "Loss for Training on Epoch 2 is 0.24939638376235962\n",
      "Starting epoch number 3\n",
      "Loss for Training on Epoch 3 is 0.24388444423675537\n",
      "Starting epoch number 4\n",
      "Loss for Training on Epoch 4 is 0.24685980379581451\n",
      "Starting epoch number 5\n",
      "Loss for Training on Epoch 5 is 0.2513061463832855\n",
      "-------  Class: aeroplane        AP:   0.0852  -------\n",
      "-------  Class: bicycle          AP:   0.0443  -------\n",
      "-------  Class: bird             AP:   0.1159  -------\n",
      "-------  Class: boat             AP:   0.0925  -------\n",
      "-------  Class: bottle           AP:   0.0430  -------\n",
      "-------  Class: bus              AP:   0.0290  -------\n",
      "-------  Class: car              AP:   0.1137  -------\n",
      "-------  Class: cat              AP:   0.0962  -------\n",
      "-------  Class: chair            AP:   0.1229  -------\n",
      "-------  Class: cow              AP:   0.0351  -------\n",
      "-------  Class: diningtable      AP:   0.0550  -------\n",
      "-------  Class: dog              AP:   0.1188  -------\n",
      "-------  Class: horse            AP:   0.0488  -------\n",
      "-------  Class: motorbike        AP:   0.0375  -------\n",
      "-------  Class: person           AP:   0.4493  -------\n",
      "-------  Class: pottedplant      AP:   0.0461  -------\n",
      "-------  Class: sheep            AP:   0.0433  -------\n",
      "-------  Class: sofa             AP:   0.0973  -------\n",
      "-------  Class: train            AP:   0.0404  -------\n",
      "-------  Class: tvmonitor        AP:   0.0485  -------\n",
      "mAP: 0.0881\n",
      "Avg loss: 0.24998021067357531\n",
      "Evaluating classifier\n",
      "Mean Precision Score for Testing on Epoch 5 is 0.08813396267406826\n",
      "Starting epoch number 6\n",
      "Loss for Training on Epoch 6 is 0.24681702256202698\n",
      "Starting epoch number 7\n",
      "Loss for Training on Epoch 7 is 0.2409454882144928\n",
      "Starting epoch number 8\n",
      "Loss for Training on Epoch 8 is 0.24200746417045593\n",
      "Starting epoch number 9\n",
      "Loss for Training on Epoch 9 is 0.23821884393692017\n",
      "Starting epoch number 10\n",
      "Loss for Training on Epoch 10 is 0.2404455989599228\n",
      "-------  Class: aeroplane        AP:   0.0783  -------\n",
      "-------  Class: bicycle          AP:   0.0479  -------\n",
      "-------  Class: bird             AP:   0.1214  -------\n",
      "-------  Class: boat             AP:   0.0856  -------\n",
      "-------  Class: bottle           AP:   0.0424  -------\n",
      "-------  Class: bus              AP:   0.0296  -------\n",
      "-------  Class: car              AP:   0.1199  -------\n",
      "-------  Class: cat              AP:   0.0946  -------\n",
      "-------  Class: chair            AP:   0.1274  -------\n",
      "-------  Class: cow              AP:   0.0358  -------\n",
      "-------  Class: diningtable      AP:   0.0558  -------\n",
      "-------  Class: dog              AP:   0.1210  -------\n",
      "-------  Class: horse            AP:   0.0510  -------\n",
      "-------  Class: motorbike        AP:   0.0397  -------\n",
      "-------  Class: person           AP:   0.3885  -------\n",
      "-------  Class: pottedplant      AP:   0.0492  -------\n",
      "-------  Class: sheep            AP:   0.0467  -------\n",
      "-------  Class: sofa             AP:   0.0963  -------\n",
      "-------  Class: train            AP:   0.0416  -------\n",
      "-------  Class: tvmonitor        AP:   0.0498  -------\n",
      "mAP: 0.0861\n",
      "Avg loss: 0.237262187927377\n",
      "Evaluating classifier\n",
      "Mean Precision Score for Testing on Epoch 10 is 0.08613724862711425\n",
      "Starting epoch number 11\n",
      "Loss for Training on Epoch 11 is 0.23952126502990723\n",
      "Starting epoch number 12\n",
      "Loss for Training on Epoch 12 is 0.24436311423778534\n",
      "Starting epoch number 13\n",
      "Loss for Training on Epoch 13 is 0.24121947586536407\n",
      "Starting epoch number 14\n",
      "Loss for Training on Epoch 14 is 0.2411457747220993\n",
      "Starting epoch number 15\n",
      "Loss for Training on Epoch 15 is 0.24093060195446014\n",
      "-------  Class: aeroplane        AP:   0.0619  -------\n",
      "-------  Class: bicycle          AP:   0.0510  -------\n",
      "-------  Class: bird             AP:   0.1249  -------\n",
      "-------  Class: boat             AP:   0.0655  -------\n",
      "-------  Class: bottle           AP:   0.0455  -------\n",
      "-------  Class: bus              AP:   0.0305  -------\n",
      "-------  Class: car              AP:   0.1400  -------\n",
      "-------  Class: cat              AP:   0.0968  -------\n",
      "-------  Class: chair            AP:   0.1412  -------\n",
      "-------  Class: cow              AP:   0.0364  -------\n",
      "-------  Class: diningtable      AP:   0.0640  -------\n",
      "-------  Class: dog              AP:   0.1223  -------\n",
      "-------  Class: horse            AP:   0.0549  -------\n",
      "-------  Class: motorbike        AP:   0.0438  -------\n",
      "-------  Class: person           AP:   0.4546  -------\n",
      "-------  Class: pottedplant      AP:   0.0555  -------\n",
      "-------  Class: sheep            AP:   0.0478  -------\n",
      "-------  Class: sofa             AP:   0.1005  -------\n",
      "-------  Class: train            AP:   0.0446  -------\n",
      "-------  Class: tvmonitor        AP:   0.0513  -------\n",
      "mAP: 0.0916\n",
      "Avg loss: 0.2424083378385095\n",
      "Evaluating classifier\n",
      "Mean Precision Score for Testing on Epoch 15 is 0.09164996752868211\n",
      "Starting epoch number 16\n",
      "Loss for Training on Epoch 16 is 0.2396327406167984\n",
      "Starting epoch number 17\n",
      "Loss for Training on Epoch 17 is 0.23839537799358368\n",
      "Starting epoch number 18\n",
      "Loss for Training on Epoch 18 is 0.23795035481452942\n",
      "Starting epoch number 19\n",
      "Loss for Training on Epoch 19 is 0.2373410314321518\n",
      "Starting epoch number 20\n",
      "Loss for Training on Epoch 20 is 0.2403293401002884\n",
      "-------  Class: aeroplane        AP:   0.1260  -------\n",
      "-------  Class: bicycle          AP:   0.0586  -------\n",
      "-------  Class: bird             AP:   0.1302  -------\n",
      "-------  Class: boat             AP:   0.1016  -------\n",
      "-------  Class: bottle           AP:   0.0499  -------\n",
      "-------  Class: bus              AP:   0.0361  -------\n",
      "-------  Class: car              AP:   0.1646  -------\n",
      "-------  Class: cat              AP:   0.0954  -------\n",
      "-------  Class: chair            AP:   0.1587  -------\n",
      "-------  Class: cow              AP:   0.0377  -------\n",
      "-------  Class: diningtable      AP:   0.0718  -------\n",
      "-------  Class: dog              AP:   0.1197  -------\n",
      "-------  Class: horse            AP:   0.0572  -------\n",
      "-------  Class: motorbike        AP:   0.0468  -------\n",
      "-------  Class: person           AP:   0.5013  -------\n",
      "-------  Class: pottedplant      AP:   0.0592  -------\n",
      "-------  Class: sheep            AP:   0.0465  -------\n",
      "-------  Class: sofa             AP:   0.1032  -------\n",
      "-------  Class: train            AP:   0.0555  -------\n",
      "-------  Class: tvmonitor        AP:   0.0525  -------\n",
      "mAP: 0.1036\n",
      "Avg loss: 0.23669245809900993\n",
      "Evaluating classifier\n",
      "Mean Precision Score for Testing on Epoch 20 is 0.10362242513363373\n"
     ]
    }
   ],
   "source": [
    "classifier, train_losses, val_losses, train_mAPs, val_mAPs = train(classifier, num_epochs, train_loader, val_loader, criterion, optimizer, test_frequency)"
   ]
  },
  {
   "cell_type": "code",
   "execution_count": 29,
   "metadata": {
    "colab": {
     "base_uri": "https://localhost:8080/",
     "height": 573
    },
    "executionInfo": {
     "elapsed": 1538,
     "status": "ok",
     "timestamp": 1602904421163,
     "user": {
      "displayName": "Yutong Xie",
      "photoUrl": "https://lh3.googleusercontent.com/a-/AOh14GhXdeoCfgkQhGM6Y9yxqYJammXB7UaVouj7KqsW=s64",
      "userId": "16538548856605091169"
     },
     "user_tz": 300
    },
    "id": "lR7q1MBlqVPn",
    "outputId": "485ca708-8223-4e34-86c8-8f2708e685b6"
   },
   "outputs": [
    {
     "data": {
      "image/png": "[encoded data removed]",
      "text/plain": [
       "<Figure size 432x288 with 1 Axes>"
      ]
     },
     "metadata": {
      "needs_background": "light",
      "tags": []
     },
     "output_type": "display_data"
    },
    {
     "data": {
      "image/png": "[encoded data removed]",
      "text/plain": [
       "<Figure size 432x288 with 1 Axes>"
      ]
     },
     "metadata": {
      "needs_background": "light",
      "tags": []
     },
     "output_type": "display_data"
    }
   ],
   "source": [
    "plot_losses(train_losses, val_losses, test_frequency, num_epochs)\n",
    "plot_mAP(train_mAPs, val_mAPs, test_frequency, num_epochs)"
   ]
  },
  {
   "cell_type": "code",
   "execution_count": 30,
   "metadata": {
    "colab": {
     "base_uri": "https://localhost:8080/",
     "height": 408
    },
    "executionInfo": {
     "elapsed": 41555,
     "status": "ok",
     "timestamp": 1602904461184,
     "user": {
      "displayName": "Yutong Xie",
      "photoUrl": "https://lh3.googleusercontent.com/a-/AOh14GhXdeoCfgkQhGM6Y9yxqYJammXB7UaVouj7KqsW=s64",
      "userId": "16538548856605091169"
     },
     "user_tz": 300
    },
    "id": "BQ8tLbXfqVPr",
    "outputId": "452f2ba5-cde7-4b57-cb8c-305c625d9cc0"
   },
   "outputs": [
    {
     "name": "stdout",
     "output_type": "stream",
     "text": [
      "-------  Class: aeroplane        AP:   0.0958  -------\n",
      "-------  Class: bicycle          AP:   0.0563  -------\n",
      "-------  Class: bird             AP:   0.1014  -------\n",
      "-------  Class: boat             AP:   0.0744  -------\n",
      "-------  Class: bottle           AP:   0.0509  -------\n",
      "-------  Class: bus              AP:   0.0341  -------\n",
      "-------  Class: car              AP:   0.1596  -------\n",
      "-------  Class: cat              AP:   0.0955  -------\n",
      "-------  Class: chair            AP:   0.1456  -------\n",
      "-------  Class: cow              AP:   0.0423  -------\n",
      "-------  Class: diningtable      AP:   0.0587  -------\n",
      "-------  Class: dog              AP:   0.1254  -------\n",
      "-------  Class: horse            AP:   0.0544  -------\n",
      "-------  Class: motorbike        AP:   0.0423  -------\n",
      "-------  Class: person           AP:   0.5038  -------\n",
      "-------  Class: pottedplant      AP:   0.0513  -------\n",
      "-------  Class: sheep            AP:   0.0582  -------\n",
      "-------  Class: sofa             AP:   0.1081  -------\n",
      "-------  Class: train            AP:   0.0619  -------\n",
      "-------  Class: tvmonitor        AP:   0.0517  -------\n",
      "mAP: 0.0986\n",
      "Avg loss: 0.2331281179189682\n",
      "Test mAP:  0.09857710166947789\n"
     ]
    }
   ],
   "source": [
    "mAP_test, test_loss, test_aps = test_classifier(test_loader, classifier, criterion)\n",
    "print(\"Test mAP: \", mAP_test)"
   ]
  },
  {
   "cell_type": "markdown",
   "metadata": {
    "id": "s3ecE3-xqVPt"
   },
   "source": [
    "You should notice somewhat poor performance. You could try running AlexNet with an Adam optimizer instead with learning rate 1e-4 to see if that makes a difference. This experiment is not required for the writeup, but it may show you the importance of a good learning rate and optimizer."
   ]
  },
  {
   "cell_type": "markdown",
   "metadata": {
    "id": "5XDawaHWqVPt"
   },
   "source": [
    "## Pretrained AlexNet"
   ]
  },
  {
   "cell_type": "markdown",
   "metadata": {
    "id": "3TloU62DqVPt"
   },
   "source": [
    "Here we look at the impact of pretrained features. This model's weights were trained on ImageNet, which is a much larger dataset. How do pretrained features perform on VOC? Why do you think there is such a large difference in performance?"
   ]
  },
  {
   "cell_type": "code",
   "execution_count": 31,
   "metadata": {
    "colab": {
     "base_uri": "https://localhost:8080/",
     "height": 83,
     "referenced_widgets": [
      "d76d56350df146c1bd98d392b7946673",
      "45b98979a6284a6ea64d44cdbf78cadb",
      "9b8c98480d25483aad2695db080ec51a",
      "6557e0b956d0412c81288d1e0b144a0d",
      "cf2200b057794468bed48fb38f62eb6d",
      "c9cbe9cc27c0406484be41031e7b430b",
      "5d6d3389f888453fb2dc8bc185d87007",
      "9ef852cd26ac49a7bee1d15a00bdcb69"
     ]
    },
    "executionInfo": {
     "elapsed": 45469,
     "status": "ok",
     "timestamp": 1602904465102,
     "user": {
      "displayName": "Yutong Xie",
      "photoUrl": "https://lh3.googleusercontent.com/a-/AOh14GhXdeoCfgkQhGM6Y9yxqYJammXB7UaVouj7KqsW=s64",
      "userId": "16538548856605091169"
     },
     "user_tz": 300
    },
    "id": "m8V5alIkqVPu",
    "outputId": "29aea930-c39b-415e-bc04-286553601409"
   },
   "outputs": [
    {
     "name": "stderr",
     "output_type": "stream",
     "text": [
      "Downloading: \"https://download.pytorch.org/models/alexnet-owt-4df8aa71.pth\" to /root/.cache/torch/checkpoints/alexnet-owt-4df8aa71.pth\n"
     ]
    },
    {
     "data": {
      "application/vnd.jupyter.widget-view+json": {
       "model_id": "d76d56350df146c1bd98d392b7946673",
       "version_major": 2,
       "version_minor": 0
      },
      "text/plain": [
       "HBox(children=(FloatProgress(value=0.0, max=244418560.0), HTML(value='')))"
      ]
     },
     "metadata": {
      "tags": []
     },
     "output_type": "display_data"
    },
    {
     "name": "stdout",
     "output_type": "stream",
     "text": [
      "\n"
     ]
    }
   ],
   "source": [
    "num_epochs = 20\n",
    "test_frequency = 5\n",
    "\n",
    "# Load Pretrained AlexNet\n",
    "classifier = torchvision.models.alexnet(pretrained=True)\n",
    "classifier.classifier._modules['6'] = nn.Linear(4096, 21)   \n",
    "classifier = classifier.to(device)\n",
    "optimizer = torch.optim.SGD(classifier.parameters(), lr=0.01, momentum=0.9)"
   ]
  },
  {
   "cell_type": "code",
   "execution_count": 32,
   "metadata": {
    "colab": {
     "base_uri": "https://localhost:8080/",
     "height": 1000
    },
    "executionInfo": {
     "elapsed": 785164,
     "status": "ok",
     "timestamp": 1602905204803,
     "user": {
      "displayName": "Yutong Xie",
      "photoUrl": "https://lh3.googleusercontent.com/a-/AOh14GhXdeoCfgkQhGM6Y9yxqYJammXB7UaVouj7KqsW=s64",
      "userId": "16538548856605091169"
     },
     "user_tz": 300
    },
    "id": "tJdvDduwqVPv",
    "outputId": "969932ce-e9d1-4f88-f5e6-be27a8b8817d"
   },
   "outputs": [
    {
     "name": "stdout",
     "output_type": "stream",
     "text": [
      "Starting epoch number 1\n",
      "Loss for Training on Epoch 1 is 0.21673569083213806\n",
      "-------  Class: aeroplane        AP:   0.7496  -------\n",
      "-------  Class: bicycle          AP:   0.5765  -------\n",
      "-------  Class: bird             AP:   0.8000  -------\n",
      "-------  Class: boat             AP:   0.6371  -------\n",
      "-------  Class: bottle           AP:   0.2761  -------\n",
      "-------  Class: bus              AP:   0.5138  -------\n",
      "-------  Class: car              AP:   0.7631  -------\n",
      "-------  Class: cat              AP:   0.6977  -------\n",
      "-------  Class: chair            AP:   0.5904  -------\n",
      "-------  Class: cow              AP:   0.3460  -------\n",
      "-------  Class: diningtable      AP:   0.5243  -------\n",
      "-------  Class: dog              AP:   0.6426  -------\n",
      "-------  Class: horse            AP:   0.6137  -------\n",
      "-------  Class: motorbike        AP:   0.6583  -------\n",
      "-------  Class: person           AP:   0.9028  -------\n",
      "-------  Class: pottedplant      AP:   0.3708  -------\n",
      "-------  Class: sheep            AP:   0.2774  -------\n",
      "-------  Class: sofa             AP:   0.4603  -------\n",
      "-------  Class: train            AP:   0.8177  -------\n",
      "-------  Class: tvmonitor        AP:   0.5281  -------\n",
      "mAP: 0.5873\n",
      "Avg loss: 0.13601251969150469\n",
      "Evaluating classifier\n",
      "Mean Precision Score for Testing on Epoch 1 is 0.5873127706626243\n",
      "Starting epoch number 2\n",
      "Loss for Training on Epoch 2 is 0.11776460707187653\n",
      "Starting epoch number 3\n",
      "Loss for Training on Epoch 3 is 0.10526616126298904\n",
      "Starting epoch number 4\n",
      "Loss for Training on Epoch 4 is 0.10371756553649902\n",
      "Starting epoch number 5\n",
      "Loss for Training on Epoch 5 is 0.08581951260566711\n",
      "-------  Class: aeroplane        AP:   0.8532  -------\n",
      "-------  Class: bicycle          AP:   0.7349  -------\n",
      "-------  Class: bird             AP:   0.8589  -------\n",
      "-------  Class: boat             AP:   0.7492  -------\n",
      "-------  Class: bottle           AP:   0.3765  -------\n",
      "-------  Class: bus              AP:   0.6278  -------\n",
      "-------  Class: car              AP:   0.8243  -------\n",
      "-------  Class: cat              AP:   0.7712  -------\n",
      "-------  Class: chair            AP:   0.5778  -------\n",
      "-------  Class: cow              AP:   0.5105  -------\n",
      "-------  Class: diningtable      AP:   0.4647  -------\n",
      "-------  Class: dog              AP:   0.7128  -------\n",
      "-------  Class: horse            AP:   0.7396  -------\n",
      "-------  Class: motorbike        AP:   0.8026  -------\n",
      "-------  Class: person           AP:   0.9117  -------\n",
      "-------  Class: pottedplant      AP:   0.4383  -------\n",
      "-------  Class: sheep            AP:   0.6054  -------\n",
      "-------  Class: sofa             AP:   0.5296  -------\n",
      "-------  Class: train            AP:   0.8906  -------\n",
      "-------  Class: tvmonitor        AP:   0.6369  -------\n",
      "mAP: 0.6808\n",
      "Avg loss: 0.11965678325470756\n",
      "Evaluating classifier\n",
      "Mean Precision Score for Testing on Epoch 5 is 0.6808299079080528\n",
      "Starting epoch number 6\n",
      "Loss for Training on Epoch 6 is 0.07416423410177231\n",
      "Starting epoch number 7\n",
      "Loss for Training on Epoch 7 is 0.06529855728149414\n",
      "Starting epoch number 8\n",
      "Loss for Training on Epoch 8 is 0.06388157606124878\n",
      "Starting epoch number 9\n",
      "Loss for Training on Epoch 9 is 0.050263892859220505\n",
      "Starting epoch number 10\n",
      "Loss for Training on Epoch 10 is 0.04291500896215439\n",
      "-------  Class: aeroplane        AP:   0.8633  -------\n",
      "-------  Class: bicycle          AP:   0.7167  -------\n",
      "-------  Class: bird             AP:   0.8384  -------\n",
      "-------  Class: boat             AP:   0.7373  -------\n",
      "-------  Class: bottle           AP:   0.3990  -------\n",
      "-------  Class: bus              AP:   0.6091  -------\n",
      "-------  Class: car              AP:   0.8235  -------\n",
      "-------  Class: cat              AP:   0.7912  -------\n",
      "-------  Class: chair            AP:   0.5718  -------\n",
      "-------  Class: cow              AP:   0.5098  -------\n",
      "-------  Class: diningtable      AP:   0.5482  -------\n",
      "-------  Class: dog              AP:   0.6928  -------\n",
      "-------  Class: horse            AP:   0.7580  -------\n",
      "-------  Class: motorbike        AP:   0.8140  -------\n",
      "-------  Class: person           AP:   0.9088  -------\n",
      "-------  Class: pottedplant      AP:   0.4475  -------\n",
      "-------  Class: sheep            AP:   0.6138  -------\n",
      "-------  Class: sofa             AP:   0.5361  -------\n",
      "-------  Class: train            AP:   0.8733  -------\n",
      "-------  Class: tvmonitor        AP:   0.5974  -------\n",
      "mAP: 0.6825\n",
      "Avg loss: 0.134625748092053\n",
      "Evaluating classifier\n",
      "Mean Precision Score for Testing on Epoch 10 is 0.682497419014652\n",
      "Starting epoch number 11\n",
      "Loss for Training on Epoch 11 is 0.03876461461186409\n",
      "Starting epoch number 12\n",
      "Loss for Training on Epoch 12 is 0.0373314768075943\n",
      "Starting epoch number 13\n",
      "Loss for Training on Epoch 13 is 0.04198295250535011\n",
      "Starting epoch number 14\n",
      "Loss for Training on Epoch 14 is 0.028304316103458405\n",
      "Starting epoch number 15\n",
      "Loss for Training on Epoch 15 is 0.025218795984983444\n",
      "-------  Class: aeroplane        AP:   0.8646  -------\n",
      "-------  Class: bicycle          AP:   0.7261  -------\n",
      "-------  Class: bird             AP:   0.8465  -------\n",
      "-------  Class: boat             AP:   0.7226  -------\n",
      "-------  Class: bottle           AP:   0.3553  -------\n",
      "-------  Class: bus              AP:   0.5837  -------\n",
      "-------  Class: car              AP:   0.8128  -------\n",
      "-------  Class: cat              AP:   0.7805  -------\n",
      "-------  Class: chair            AP:   0.5705  -------\n",
      "-------  Class: cow              AP:   0.5015  -------\n",
      "-------  Class: diningtable      AP:   0.5299  -------\n",
      "-------  Class: dog              AP:   0.7066  -------\n",
      "-------  Class: horse            AP:   0.7645  -------\n",
      "-------  Class: motorbike        AP:   0.7988  -------\n",
      "-------  Class: person           AP:   0.9052  -------\n",
      "-------  Class: pottedplant      AP:   0.4337  -------\n",
      "-------  Class: sheep            AP:   0.5862  -------\n",
      "-------  Class: sofa             AP:   0.5205  -------\n",
      "-------  Class: train            AP:   0.8754  -------\n",
      "-------  Class: tvmonitor        AP:   0.6295  -------\n",
      "mAP: 0.6757\n",
      "Avg loss: 0.153242290019989\n",
      "Evaluating classifier\n",
      "Mean Precision Score for Testing on Epoch 15 is 0.6757286535088792\n",
      "Starting epoch number 16\n",
      "Loss for Training on Epoch 16 is 0.029666168615221977\n",
      "Starting epoch number 17\n",
      "Loss for Training on Epoch 17 is 0.03735257312655449\n",
      "Starting epoch number 18\n",
      "Loss for Training on Epoch 18 is 0.019167257472872734\n",
      "Starting epoch number 19\n",
      "Loss for Training on Epoch 19 is 0.01556609757244587\n",
      "Starting epoch number 20\n",
      "Loss for Training on Epoch 20 is 0.014770880341529846\n",
      "-------  Class: aeroplane        AP:   0.8617  -------\n",
      "-------  Class: bicycle          AP:   0.7239  -------\n",
      "-------  Class: bird             AP:   0.8379  -------\n",
      "-------  Class: boat             AP:   0.7097  -------\n",
      "-------  Class: bottle           AP:   0.3551  -------\n",
      "-------  Class: bus              AP:   0.5862  -------\n",
      "-------  Class: car              AP:   0.8095  -------\n",
      "-------  Class: cat              AP:   0.7673  -------\n",
      "-------  Class: chair            AP:   0.5442  -------\n",
      "-------  Class: cow              AP:   0.5203  -------\n",
      "-------  Class: diningtable      AP:   0.5388  -------\n",
      "-------  Class: dog              AP:   0.7169  -------\n",
      "-------  Class: horse            AP:   0.7727  -------\n",
      "-------  Class: motorbike        AP:   0.7957  -------\n",
      "-------  Class: person           AP:   0.9071  -------\n",
      "-------  Class: pottedplant      AP:   0.4226  -------\n",
      "-------  Class: sheep            AP:   0.6132  -------\n",
      "-------  Class: sofa             AP:   0.5420  -------\n",
      "-------  Class: train            AP:   0.8721  -------\n",
      "-------  Class: tvmonitor        AP:   0.5957  -------\n",
      "mAP: 0.6746\n",
      "Avg loss: 0.17572435152296925\n",
      "Evaluating classifier\n",
      "Mean Precision Score for Testing on Epoch 20 is 0.6746319064708429\n"
     ]
    }
   ],
   "source": [
    "classifier, train_losses, val_losses, train_mAPs, val_mAPs = train(classifier, num_epochs, train_loader, val_loader, criterion, optimizer, test_frequency)"
   ]
  },
  {
   "cell_type": "code",
   "execution_count": 33,
   "metadata": {
    "colab": {
     "base_uri": "https://localhost:8080/",
     "height": 573
    },
    "executionInfo": {
     "elapsed": 785487,
     "status": "ok",
     "timestamp": 1602905205129,
     "user": {
      "displayName": "Yutong Xie",
      "photoUrl": "https://lh3.googleusercontent.com/a-/AOh14GhXdeoCfgkQhGM6Y9yxqYJammXB7UaVouj7KqsW=s64",
      "userId": "16538548856605091169"
     },
     "user_tz": 300
    },
    "id": "DTSYuFYFqVPy",
    "outputId": "6ea64821-11e2-4921-c87c-7ee5e1d1725a"
   },
   "outputs": [
    {
     "data": {
      "image/png": "[encoded data removed]",
      "text/plain": [
       "<Figure size 432x288 with 1 Axes>"
      ]
     },
     "metadata": {
      "needs_background": "light",
      "tags": []
     },
     "output_type": "display_data"
    },
    {
     "data": {
      "image/png": "[encoded data removed]",
      "text/plain": [
       "<Figure size 432x288 with 1 Axes>"
      ]
     },
     "metadata": {
      "needs_background": "light",
      "tags": []
     },
     "output_type": "display_data"
    }
   ],
   "source": [
    "plot_losses(train_losses, val_losses, test_frequency, num_epochs)\n",
    "plot_mAP(train_mAPs, val_mAPs, test_frequency, num_epochs)"
   ]
  },
  {
   "cell_type": "code",
   "execution_count": 34,
   "metadata": {
    "colab": {
     "base_uri": "https://localhost:8080/",
     "height": 408
    },
    "executionInfo": {
     "elapsed": 833316,
     "status": "ok",
     "timestamp": 1602905252960,
     "user": {
      "displayName": "Yutong Xie",
      "photoUrl": "https://lh3.googleusercontent.com/a-/AOh14GhXdeoCfgkQhGM6Y9yxqYJammXB7UaVouj7KqsW=s64",
      "userId": "16538548856605091169"
     },
     "user_tz": 300
    },
    "id": "f9sJ9cn7qVP1",
    "outputId": "fa6b60a0-b117-4399-9037-ed24e5ed200b"
   },
   "outputs": [
    {
     "name": "stdout",
     "output_type": "stream",
     "text": [
      "-------  Class: aeroplane        AP:   0.8630  -------\n",
      "-------  Class: bicycle          AP:   0.7638  -------\n",
      "-------  Class: bird             AP:   0.8328  -------\n",
      "-------  Class: boat             AP:   0.7750  -------\n",
      "-------  Class: bottle           AP:   0.3106  -------\n",
      "-------  Class: bus              AP:   0.6236  -------\n",
      "-------  Class: car              AP:   0.8257  -------\n",
      "-------  Class: cat              AP:   0.7558  -------\n",
      "-------  Class: chair            AP:   0.5332  -------\n",
      "-------  Class: cow              AP:   0.5012  -------\n",
      "-------  Class: diningtable      AP:   0.5807  -------\n",
      "-------  Class: dog              AP:   0.7488  -------\n",
      "-------  Class: horse            AP:   0.8496  -------\n",
      "-------  Class: motorbike        AP:   0.7605  -------\n",
      "-------  Class: person           AP:   0.9196  -------\n",
      "-------  Class: pottedplant      AP:   0.4432  -------\n",
      "-------  Class: sheep            AP:   0.6107  -------\n",
      "-------  Class: sofa             AP:   0.4964  -------\n",
      "-------  Class: train            AP:   0.8716  -------\n",
      "-------  Class: tvmonitor        AP:   0.6016  -------\n",
      "mAP: 0.6834\n",
      "Avg loss: 0.17187273867428302\n",
      "Test mAP:  0.6833769765702431\n"
     ]
    }
   ],
   "source": [
    "mAP_test, test_loss, test_aps = test_classifier(test_loader, classifier, criterion)\n",
    "print(\"Test mAP: \", mAP_test)"
   ]
  },
  {
   "cell_type": "code",
   "execution_count": null,
   "metadata": {
    "id": "va84BcdvqVP7"
   },
   "outputs": [],
   "source": []
  }
 ],
 "metadata": {
  "accelerator": "GPU",
  "colab": {
   "name": "MP3_P1A_Introduction.ipynb",
   "provenance": []
  },
  "kernelspec": {
   "display_name": "Python 3",
   "language": "python",
   "name": "python3"
  },
  "language_info": {
   "codemirror_mode": {
    "name": "ipython",
    "version": 3
   },
   "file_extension": ".py",
   "mimetype": "text/x-python",
   "name": "python",
   "nbconvert_exporter": "python",
   "pygments_lexer": "ipython3",
   "version": "3.8.3"
  },
  "widgets": {
   "application/vnd.jupyter.widget-state+json": {
    "45b98979a6284a6ea64d44cdbf78cadb": {
     "model_module": "@jupyter-widgets/base",
     "model_name": "LayoutModel",
     "state": {
      "_model_module": "@jupyter-widgets/base",
      "_model_module_version": "1.2.0",
      "_model_name": "LayoutModel",
      "_view_count": null,
      "_view_module": "@jupyter-widgets/base",
      "_view_module_version": "1.2.0",
      "_view_name": "LayoutView",
      "align_content": null,
      "align_items": null,
      "align_self": null,
      "border": null,
      "bottom": null,
      "display": null,
      "flex": null,
      "flex_flow": null,
      "grid_area": null,
      "grid_auto_columns": null,
      "grid_auto_flow": null,
      "grid_auto_rows": null,
      "grid_column": null,
      "grid_gap": null,
      "grid_row": null,
      "grid_template_areas": null,
      "grid_template_columns": null,
      "grid_template_rows": null,
      "height": null,
      "justify_content": null,
      "justify_items": null,
      "left": null,
      "margin": null,
      "max_height": null,
      "max_width": null,
      "min_height": null,
      "min_width": null,
      "object_fit": null,
      "object_position": null,
      "order": null,
      "overflow": null,
      "overflow_x": null,
      "overflow_y": null,
      "padding": null,
      "right": null,
      "top": null,
      "visibility": null,
      "width": null
     }
    },
    "5d6d3389f888453fb2dc8bc185d87007": {
     "model_module": "@jupyter-widgets/controls",
     "model_name": "DescriptionStyleModel",
     "state": {
      "_model_module": "@jupyter-widgets/controls",
      "_model_module_version": "1.5.0",
      "_model_name": "DescriptionStyleModel",
      "_view_count": null,
      "_view_module": "@jupyter-widgets/base",
      "_view_module_version": "1.2.0",
      "_view_name": "StyleView",
      "description_width": ""
     }
    },
    "6557e0b956d0412c81288d1e0b144a0d": {
     "model_module": "@jupyter-widgets/controls",
     "model_name": "HTMLModel",
     "state": {
      "_dom_classes": [],
      "_model_module": "@jupyter-widgets/controls",
      "_model_module_version": "1.5.0",
      "_model_name": "HTMLModel",
      "_view_count": null,
      "_view_module": "@jupyter-widgets/controls",
      "_view_module_version": "1.5.0",
      "_view_name": "HTMLView",
      "description": "",
      "description_tooltip": null,
      "layout": "IPY_MODEL_9ef852cd26ac49a7bee1d15a00bdcb69",
      "placeholder": "​",
      "style": "IPY_MODEL_5d6d3389f888453fb2dc8bc185d87007",
      "value": " 233M/233M [12:23&lt;00:00, 329kB/s]"
     }
    },
    "9b8c98480d25483aad2695db080ec51a": {
     "model_module": "@jupyter-widgets/controls",
     "model_name": "FloatProgressModel",
     "state": {
      "_dom_classes": [],
      "_model_module": "@jupyter-widgets/controls",
      "_model_module_version": "1.5.0",
      "_model_name": "FloatProgressModel",
      "_view_count": null,
      "_view_module": "@jupyter-widgets/controls",
      "_view_module_version": "1.5.0",
      "_view_name": "ProgressView",
      "bar_style": "success",
      "description": "100%",
      "description_tooltip": null,
      "layout": "IPY_MODEL_c9cbe9cc27c0406484be41031e7b430b",
      "max": 244418560,
      "min": 0,
      "orientation": "horizontal",
      "style": "IPY_MODEL_cf2200b057794468bed48fb38f62eb6d",
      "value": 244418560
     }
    },
    "9ef852cd26ac49a7bee1d15a00bdcb69": {
     "model_module": "@jupyter-widgets/base",
     "model_name": "LayoutModel",
     "state": {
      "_model_module": "@jupyter-widgets/base",
      "_model_module_version": "1.2.0",
      "_model_name": "LayoutModel",
      "_view_count": null,
      "_view_module": "@jupyter-widgets/base",
      "_view_module_version": "1.2.0",
      "_view_name": "LayoutView",
      "align_content": null,
      "align_items": null,
      "align_self": null,
      "border": null,
      "bottom": null,
      "display": null,
      "flex": null,
      "flex_flow": null,
      "grid_area": null,
      "grid_auto_columns": null,
      "grid_auto_flow": null,
      "grid_auto_rows": null,
      "grid_column": null,
      "grid_gap": null,
      "grid_row": null,
      "grid_template_areas": null,
      "grid_template_columns": null,
      "grid_template_rows": null,
      "height": null,
      "justify_content": null,
      "justify_items": null,
      "left": null,
      "margin": null,
      "max_height": null,
      "max_width": null,
      "min_height": null,
      "min_width": null,
      "object_fit": null,
      "object_position": null,
      "order": null,
      "overflow": null,
      "overflow_x": null,
      "overflow_y": null,
      "padding": null,
      "right": null,
      "top": null,
      "visibility": null,
      "width": null
     }
    },
    "c9cbe9cc27c0406484be41031e7b430b": {
     "model_module": "@jupyter-widgets/base",
     "model_name": "LayoutModel",
     "state": {
      "_model_module": "@jupyter-widgets/base",
      "_model_module_version": "1.2.0",
      "_model_name": "LayoutModel",
      "_view_count": null,
      "_view_module": "@jupyter-widgets/base",
      "_view_module_version": "1.2.0",
      "_view_name": "LayoutView",
      "align_content": null,
      "align_items": null,
      "align_self": null,
      "border": null,
      "bottom": null,
      "display": null,
      "flex": null,
      "flex_flow": null,
      "grid_area": null,
      "grid_auto_columns": null,
      "grid_auto_flow": null,
      "grid_auto_rows": null,
      "grid_column": null,
      "grid_gap": null,
      "grid_row": null,
      "grid_template_areas": null,
      "grid_template_columns": null,
      "grid_template_rows": null,
      "height": null,
      "justify_content": null,
      "justify_items": null,
      "left": null,
      "margin": null,
      "max_height": null,
      "max_width": null,
      "min_height": null,
      "min_width": null,
      "object_fit": null,
      "object_position": null,
      "order": null,
      "overflow": null,
      "overflow_x": null,
      "overflow_y": null,
      "padding": null,
      "right": null,
      "top": null,
      "visibility": null,
      "width": null
     }
    },
    "cf2200b057794468bed48fb38f62eb6d": {
     "model_module": "@jupyter-widgets/controls",
     "model_name": "ProgressStyleModel",
     "state": {
      "_model_module": "@jupyter-widgets/controls",
      "_model_module_version": "1.5.0",
      "_model_name": "ProgressStyleModel",
      "_view_count": null,
      "_view_module": "@jupyter-widgets/base",
      "_view_module_version": "1.2.0",
      "_view_name": "StyleView",
      "bar_color": null,
      "description_width": "initial"
     }
    },
    "d76d56350df146c1bd98d392b7946673": {
     "model_module": "@jupyter-widgets/controls",
     "model_name": "HBoxModel",
     "state": {
      "_dom_classes": [],
      "_model_module": "@jupyter-widgets/controls",
      "_model_module_version": "1.5.0",
      "_model_name": "HBoxModel",
      "_view_count": null,
      "_view_module": "@jupyter-widgets/controls",
      "_view_module_version": "1.5.0",
      "_view_name": "HBoxView",
      "box_style": "",
      "children": [
       "IPY_MODEL_9b8c98480d25483aad2695db080ec51a",
       "IPY_MODEL_6557e0b956d0412c81288d1e0b144a0d"
      ],
      "layout": "IPY_MODEL_45b98979a6284a6ea64d44cdbf78cadb"
     }
    }
   }
  }
 },
 "nbformat": 4,
 "nbformat_minor": 1
}
